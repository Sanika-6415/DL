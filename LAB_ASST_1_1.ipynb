{
  "nbformat": 4,
  "nbformat_minor": 0,
  "metadata": {
    "colab": {
      "provenance": []
    },
    "kernelspec": {
      "name": "python3",
      "display_name": "Python 3"
    },
    "language_info": {
      "name": "python"
    }
  },
  "cells": [
    {
      "cell_type": "code",
      "execution_count": 1,
      "metadata": {
        "colab": {
          "base_uri": "https://localhost:8080/"
        },
        "id": "LNCCm-_8bD9G",
        "outputId": "b68b0f31-da2c-44d1-be84-e2c7db2b460f"
      },
      "outputs": [
        {
          "output_type": "stream",
          "name": "stdout",
          "text": [
            "Requirement already satisfied: tensorflow in /usr/local/lib/python3.10/dist-packages (2.13.0)\n",
            "Requirement already satisfied: absl-py>=1.0.0 in /usr/local/lib/python3.10/dist-packages (from tensorflow) (1.4.0)\n",
            "Requirement already satisfied: astunparse>=1.6.0 in /usr/local/lib/python3.10/dist-packages (from tensorflow) (1.6.3)\n",
            "Requirement already satisfied: flatbuffers>=23.1.21 in /usr/local/lib/python3.10/dist-packages (from tensorflow) (23.5.26)\n",
            "Requirement already satisfied: gast<=0.4.0,>=0.2.1 in /usr/local/lib/python3.10/dist-packages (from tensorflow) (0.4.0)\n",
            "Requirement already satisfied: google-pasta>=0.1.1 in /usr/local/lib/python3.10/dist-packages (from tensorflow) (0.2.0)\n",
            "Requirement already satisfied: grpcio<2.0,>=1.24.3 in /usr/local/lib/python3.10/dist-packages (from tensorflow) (1.59.0)\n",
            "Requirement already satisfied: h5py>=2.9.0 in /usr/local/lib/python3.10/dist-packages (from tensorflow) (3.9.0)\n",
            "Requirement already satisfied: keras<2.14,>=2.13.1 in /usr/local/lib/python3.10/dist-packages (from tensorflow) (2.13.1)\n",
            "Requirement already satisfied: libclang>=13.0.0 in /usr/local/lib/python3.10/dist-packages (from tensorflow) (16.0.6)\n",
            "Requirement already satisfied: numpy<=1.24.3,>=1.22 in /usr/local/lib/python3.10/dist-packages (from tensorflow) (1.23.5)\n",
            "Requirement already satisfied: opt-einsum>=2.3.2 in /usr/local/lib/python3.10/dist-packages (from tensorflow) (3.3.0)\n",
            "Requirement already satisfied: packaging in /usr/local/lib/python3.10/dist-packages (from tensorflow) (23.2)\n",
            "Requirement already satisfied: protobuf!=4.21.0,!=4.21.1,!=4.21.2,!=4.21.3,!=4.21.4,!=4.21.5,<5.0.0dev,>=3.20.3 in /usr/local/lib/python3.10/dist-packages (from tensorflow) (3.20.3)\n",
            "Requirement already satisfied: setuptools in /usr/local/lib/python3.10/dist-packages (from tensorflow) (67.7.2)\n",
            "Requirement already satisfied: six>=1.12.0 in /usr/local/lib/python3.10/dist-packages (from tensorflow) (1.16.0)\n",
            "Requirement already satisfied: tensorboard<2.14,>=2.13 in /usr/local/lib/python3.10/dist-packages (from tensorflow) (2.13.0)\n",
            "Requirement already satisfied: tensorflow-estimator<2.14,>=2.13.0 in /usr/local/lib/python3.10/dist-packages (from tensorflow) (2.13.0)\n",
            "Requirement already satisfied: termcolor>=1.1.0 in /usr/local/lib/python3.10/dist-packages (from tensorflow) (2.3.0)\n",
            "Requirement already satisfied: typing-extensions<4.6.0,>=3.6.6 in /usr/local/lib/python3.10/dist-packages (from tensorflow) (4.5.0)\n",
            "Requirement already satisfied: wrapt>=1.11.0 in /usr/local/lib/python3.10/dist-packages (from tensorflow) (1.15.0)\n",
            "Requirement already satisfied: tensorflow-io-gcs-filesystem>=0.23.1 in /usr/local/lib/python3.10/dist-packages (from tensorflow) (0.34.0)\n",
            "Requirement already satisfied: wheel<1.0,>=0.23.0 in /usr/local/lib/python3.10/dist-packages (from astunparse>=1.6.0->tensorflow) (0.41.2)\n",
            "Requirement already satisfied: google-auth<3,>=1.6.3 in /usr/local/lib/python3.10/dist-packages (from tensorboard<2.14,>=2.13->tensorflow) (2.17.3)\n",
            "Requirement already satisfied: google-auth-oauthlib<1.1,>=0.5 in /usr/local/lib/python3.10/dist-packages (from tensorboard<2.14,>=2.13->tensorflow) (1.0.0)\n",
            "Requirement already satisfied: markdown>=2.6.8 in /usr/local/lib/python3.10/dist-packages (from tensorboard<2.14,>=2.13->tensorflow) (3.5)\n",
            "Requirement already satisfied: requests<3,>=2.21.0 in /usr/local/lib/python3.10/dist-packages (from tensorboard<2.14,>=2.13->tensorflow) (2.31.0)\n",
            "Requirement already satisfied: tensorboard-data-server<0.8.0,>=0.7.0 in /usr/local/lib/python3.10/dist-packages (from tensorboard<2.14,>=2.13->tensorflow) (0.7.1)\n",
            "Requirement already satisfied: werkzeug>=1.0.1 in /usr/local/lib/python3.10/dist-packages (from tensorboard<2.14,>=2.13->tensorflow) (3.0.0)\n",
            "Requirement already satisfied: cachetools<6.0,>=2.0.0 in /usr/local/lib/python3.10/dist-packages (from google-auth<3,>=1.6.3->tensorboard<2.14,>=2.13->tensorflow) (5.3.1)\n",
            "Requirement already satisfied: pyasn1-modules>=0.2.1 in /usr/local/lib/python3.10/dist-packages (from google-auth<3,>=1.6.3->tensorboard<2.14,>=2.13->tensorflow) (0.3.0)\n",
            "Requirement already satisfied: rsa<5,>=3.1.4 in /usr/local/lib/python3.10/dist-packages (from google-auth<3,>=1.6.3->tensorboard<2.14,>=2.13->tensorflow) (4.9)\n",
            "Requirement already satisfied: requests-oauthlib>=0.7.0 in /usr/local/lib/python3.10/dist-packages (from google-auth-oauthlib<1.1,>=0.5->tensorboard<2.14,>=2.13->tensorflow) (1.3.1)\n",
            "Requirement already satisfied: charset-normalizer<4,>=2 in /usr/local/lib/python3.10/dist-packages (from requests<3,>=2.21.0->tensorboard<2.14,>=2.13->tensorflow) (3.3.0)\n",
            "Requirement already satisfied: idna<4,>=2.5 in /usr/local/lib/python3.10/dist-packages (from requests<3,>=2.21.0->tensorboard<2.14,>=2.13->tensorflow) (3.4)\n",
            "Requirement already satisfied: urllib3<3,>=1.21.1 in /usr/local/lib/python3.10/dist-packages (from requests<3,>=2.21.0->tensorboard<2.14,>=2.13->tensorflow) (2.0.7)\n",
            "Requirement already satisfied: certifi>=2017.4.17 in /usr/local/lib/python3.10/dist-packages (from requests<3,>=2.21.0->tensorboard<2.14,>=2.13->tensorflow) (2023.7.22)\n",
            "Requirement already satisfied: MarkupSafe>=2.1.1 in /usr/local/lib/python3.10/dist-packages (from werkzeug>=1.0.1->tensorboard<2.14,>=2.13->tensorflow) (2.1.3)\n",
            "Requirement already satisfied: pyasn1<0.6.0,>=0.4.6 in /usr/local/lib/python3.10/dist-packages (from pyasn1-modules>=0.2.1->google-auth<3,>=1.6.3->tensorboard<2.14,>=2.13->tensorflow) (0.5.0)\n",
            "Requirement already satisfied: oauthlib>=3.0.0 in /usr/local/lib/python3.10/dist-packages (from requests-oauthlib>=0.7.0->google-auth-oauthlib<1.1,>=0.5->tensorboard<2.14,>=2.13->tensorflow) (3.2.2)\n"
          ]
        }
      ],
      "source": [
        "!pip install tensorflow"
      ]
    },
    {
      "cell_type": "code",
      "source": [
        "import tensorflow as tf\n",
        "import numpy as np"
      ],
      "metadata": {
        "id": "4bNvLjuibG5Q"
      },
      "execution_count": 2,
      "outputs": []
    },
    {
      "cell_type": "code",
      "source": [
        "a=tf.constant(20)\n",
        "b=tf.constant(15)\n",
        "print(a*b)"
      ],
      "metadata": {
        "colab": {
          "base_uri": "https://localhost:8080/"
        },
        "id": "QPQMXOiHb50j",
        "outputId": "78fafed3-3094-41b5-b881-44c4049f29cf"
      },
      "execution_count": 3,
      "outputs": [
        {
          "output_type": "stream",
          "name": "stdout",
          "text": [
            "tf.Tensor(300, shape=(), dtype=int32)\n"
          ]
        }
      ]
    },
    {
      "cell_type": "code",
      "source": [
        "x=np.random.rand(100).astype(np.float32)\n",
        "print(x)"
      ],
      "metadata": {
        "colab": {
          "base_uri": "https://localhost:8080/"
        },
        "id": "rETW8WMOcF4f",
        "outputId": "d706d8cc-66b2-4b45-b5bd-6276fa035253"
      },
      "execution_count": 5,
      "outputs": [
        {
          "output_type": "stream",
          "name": "stdout",
          "text": [
            "[0.36269245 0.5978034  0.6744555  0.32958552 0.3597888  0.04364101\n",
            " 0.20109059 0.6057117  0.45303428 0.1027298  0.39911097 0.6254156\n",
            " 0.89423364 0.6872932  0.83792675 0.62470555 0.23988456 0.76628095\n",
            " 0.1833827  0.9744697  0.83600384 0.3080415  0.9101248  0.6354085\n",
            " 0.6466026  0.20287631 0.17266065 0.363246   0.53830874 0.9160116\n",
            " 0.53985757 0.32943305 0.8529553  0.7997989  0.13197176 0.22550087\n",
            " 0.05201474 0.38826963 0.64080685 0.3501183  0.5768401  0.33025512\n",
            " 0.00449546 0.07376295 0.2960689  0.06564567 0.3529866  0.2565754\n",
            " 0.3327112  0.95453453 0.16794705 0.87934965 0.91023356 0.00150361\n",
            " 0.19101274 0.8372648  0.7617004  0.32082334 0.6533382  0.4620393\n",
            " 0.10991699 0.20074093 0.9014741  0.52267987 0.9212178  0.11187173\n",
            " 0.533811   0.27458203 0.02144265 0.8166203  0.7621315  0.23861527\n",
            " 0.9403709  0.8756498  0.10573691 0.58758885 0.7745565  0.9668833\n",
            " 0.25619513 0.01247067 0.7327769  0.8634355  0.36091918 0.22170913\n",
            " 0.09474564 0.07119031 0.813125   0.92725885 0.6813211  0.49813837\n",
            " 0.41418296 0.3024356  0.56498486 0.95329    0.97105825 0.4904791\n",
            " 0.69300604 0.48885557 0.11717276 0.9672001 ]\n"
          ]
        }
      ]
    },
    {
      "cell_type": "code",
      "source": [
        "y=x*0.2+0.2"
      ],
      "metadata": {
        "id": "vGiDIuAKc2Up"
      },
      "execution_count": 6,
      "outputs": []
    },
    {
      "cell_type": "code",
      "source": [
        "print(y)"
      ],
      "metadata": {
        "colab": {
          "base_uri": "https://localhost:8080/"
        },
        "id": "1E7BdeKhif5j",
        "outputId": "0caade56-409b-4c07-d0da-a7389ae7545d"
      },
      "execution_count": 7,
      "outputs": [
        {
          "output_type": "stream",
          "name": "stdout",
          "text": [
            "[0.27253848 0.31956068 0.3348911  0.26591712 0.27195776 0.20872821\n",
            " 0.24021812 0.32114235 0.29060686 0.22054596 0.2798222  0.32508314\n",
            " 0.37884673 0.33745864 0.36758536 0.3249411  0.24797691 0.3532562\n",
            " 0.23667654 0.39489394 0.3672008  0.2616083  0.38202494 0.3270817\n",
            " 0.32932052 0.24057527 0.23453213 0.2726492  0.30766174 0.3832023\n",
            " 0.3079715  0.2658866  0.37059104 0.35995978 0.22639436 0.24510017\n",
            " 0.21040295 0.27765393 0.32816136 0.27002367 0.31536803 0.26605102\n",
            " 0.2008991  0.2147526  0.25921378 0.21312913 0.27059734 0.2513151\n",
            " 0.26654226 0.39090693 0.23358941 0.37586993 0.3820467  0.20030072\n",
            " 0.23820256 0.36745298 0.3523401  0.2641647  0.33066764 0.29240787\n",
            " 0.2219834  0.24014819 0.38029483 0.30453598 0.38424355 0.22237435\n",
            " 0.3067622  0.2549164  0.20428853 0.36332405 0.3524263  0.24772306\n",
            " 0.3880742  0.37512997 0.22114739 0.31751776 0.35491133 0.39337665\n",
            " 0.25123903 0.20249414 0.34655538 0.3726871  0.27218384 0.24434184\n",
            " 0.21894914 0.21423806 0.362625   0.3854518  0.33626422 0.29962766\n",
            " 0.2828366  0.26048714 0.31299698 0.39065802 0.39421165 0.29809582\n",
            " 0.33860123 0.29777113 0.22343455 0.39344   ]\n"
          ]
        }
      ]
    },
    {
      "cell_type": "code",
      "source": [
        "w=tf.Variable(tf.random.normal([1]))\n",
        "print(w)"
      ],
      "metadata": {
        "colab": {
          "base_uri": "https://localhost:8080/"
        },
        "id": "PDtkOevlihxj",
        "outputId": "f9fb0f41-da93-4d48-e61e-c28ce71f9d38"
      },
      "execution_count": 9,
      "outputs": [
        {
          "output_type": "stream",
          "name": "stdout",
          "text": [
            "<tf.Variable 'Variable:0' shape=(1,) dtype=float32, numpy=array([1.0353487], dtype=float32)>\n"
          ]
        }
      ]
    },
    {
      "cell_type": "code",
      "source": [
        "b = tf.Variable(tf.zeros([1]))\n",
        "print(b)"
      ],
      "metadata": {
        "colab": {
          "base_uri": "https://localhost:8080/"
        },
        "id": "r69DiEnnkcwq",
        "outputId": "efefaf70-94ab-4559-d32f-21e1b48c07c8"
      },
      "execution_count": 10,
      "outputs": [
        {
          "output_type": "stream",
          "name": "stdout",
          "text": [
            "<tf.Variable 'Variable:0' shape=(1,) dtype=float32, numpy=array([0.], dtype=float32)>\n"
          ]
        }
      ]
    },
    {
      "cell_type": "code",
      "source": [
        "def mse_loss():\n",
        "  ypred=w*x+b\n",
        "  loss = tf.reduce_mean(tf.square(ypred-y))\n",
        "  return loss"
      ],
      "metadata": {
        "id": "r88650Y5lEJi"
      },
      "execution_count": 11,
      "outputs": []
    },
    {
      "cell_type": "code",
      "source": [
        "optimizer=tf.keras.optimizers.Adam()"
      ],
      "metadata": {
        "id": "C1WCvYPFllb2"
      },
      "execution_count": 12,
      "outputs": []
    },
    {
      "cell_type": "code",
      "source": [
        "# Iterations\n",
        "for step in range(5000):\n",
        "    optimizer.minimize(mse_loss,var_list=[w,b])\n",
        "if step % 500 != 0:\n",
        "    print(step, w.numpy(), b.numpy())"
      ],
      "metadata": {
        "colab": {
          "base_uri": "https://localhost:8080/"
        },
        "id": "7BOmG6UhlxvC",
        "outputId": "e2d593ea-8222-43cf-e547-d796d4c69f3d"
      },
      "execution_count": 16,
      "outputs": [
        {
          "output_type": "stream",
          "name": "stdout",
          "text": [
            "4999 [0.20000003] [0.19999999]\n"
          ]
        }
      ]
    }
  ]
}