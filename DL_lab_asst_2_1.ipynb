{
  "cells": [
    {
      "cell_type": "code",
      "execution_count": null,
      "id": "7ca23048",
      "metadata": {
        "id": "7ca23048",
        "outputId": "28731904-ca2b-410b-a8af-09d9de1ddeff"
      },
      "outputs": [
        {
          "name": "stderr",
          "output_type": "stream",
          "text": [
            "2023-09-13 11:11:58.759399: I tensorflow/tsl/cuda/cudart_stub.cc:28] Could not find cuda drivers on your machine, GPU will not be used.\n",
            "2023-09-13 11:11:58.787163: I tensorflow/tsl/cuda/cudart_stub.cc:28] Could not find cuda drivers on your machine, GPU will not be used.\n",
            "2023-09-13 11:11:58.787604: I tensorflow/core/platform/cpu_feature_guard.cc:182] This TensorFlow binary is optimized to use available CPU instructions in performance-critical operations.\n",
            "To enable the following instructions: AVX2 FMA, in other operations, rebuild TensorFlow with the appropriate compiler flags.\n",
            "2023-09-13 11:11:59.269270: W tensorflow/compiler/tf2tensorrt/utils/py_utils.cc:38] TF-TRT Warning: Could not find TensorRT\n"
          ]
        }
      ],
      "source": [
        "from sklearn.preprocessing import LabelBinarizer\n",
        "from sklearn.metrics import classification_report\n",
        "from tensorflow.keras.models import Sequential\n",
        "from tensorflow.keras.layers import Dense\n",
        "from tensorflow.keras.optimizers import SGD\n",
        "from tensorflow.keras.datasets import mnist\n",
        "from tensorflow.keras import backend as K\n",
        "import matplotlib.pyplot as plt\n",
        "import numpy as np\n",
        "import argparse"
      ]
    },
    {
      "cell_type": "code",
      "execution_count": null,
      "id": "5aefad51",
      "metadata": {
        "id": "5aefad51",
        "outputId": "6a2bcb70-2797-40ac-cec5-bbeb544d0aa9"
      },
      "outputs": [
        {
          "name": "stdout",
          "output_type": "stream",
          "text": [
            "[INFO] accessing MNIST...\n"
          ]
        }
      ],
      "source": [
        "print(\"[INFO] accessing MNIST...\")\n",
        "((trainX, trainY), (testX, testY)) = mnist.load_data()"
      ]
    },
    {
      "cell_type": "code",
      "execution_count": null,
      "id": "c96b56a9",
      "metadata": {
        "id": "c96b56a9"
      },
      "outputs": [],
      "source": [
        "# each image in the MNIST dataset is represented as a 28x28x1\n",
        "# image, but in order to apply a standard neural network we must\n",
        "# first \"flatten\" the image to be simple list of 28x28=784 pixels\n",
        "trainX = trainX.reshape((trainX.shape[0], 28 * 28 * 1))\n",
        "testX = testX.reshape((testX.shape[0], 28 * 28 * 1))"
      ]
    },
    {
      "cell_type": "code",
      "execution_count": null,
      "id": "3d2deecc",
      "metadata": {
        "id": "3d2deecc"
      },
      "outputs": [],
      "source": [
        "# scale data to the range of [0, 1]\n",
        "trainX = trainX.astype(\"float32\") / 255.0\n",
        "testX = testX.astype(\"float32\") / 255.0"
      ]
    },
    {
      "cell_type": "code",
      "execution_count": null,
      "id": "7511dc53",
      "metadata": {
        "id": "7511dc53"
      },
      "outputs": [],
      "source": [
        "# convert the labels from integers to vectors\n",
        "lb = LabelBinarizer()\n",
        "trainY = lb.fit_transform(trainY)\n",
        "testY = lb.transform(testY)"
      ]
    },
    {
      "cell_type": "code",
      "execution_count": null,
      "id": "e1faef43",
      "metadata": {
        "id": "e1faef43"
      },
      "outputs": [],
      "source": [
        "# define the 784-256-128-10 architecture using Keras\n",
        "model = Sequential()\n",
        "model.add(Dense(256, input_shape=(784,), activation=\"sigmoid\"))\n",
        "model.add(Dense(128, activation=\"sigmoid\"))\n",
        "model.add(Dense(10, activation=\"softmax\"))"
      ]
    },
    {
      "cell_type": "code",
      "execution_count": null,
      "id": "9ecc89eb",
      "metadata": {
        "id": "9ecc89eb",
        "outputId": "88d1f56c-2e63-4e04-a87f-4fc6de5fd2e6"
      },
      "outputs": [
        {
          "name": "stdout",
          "output_type": "stream",
          "text": [
            "[INFO] training network...\n",
            "Epoch 1/100\n"
          ]
        },
        {
          "name": "stderr",
          "output_type": "stream",
          "text": [
            "2023-09-13 11:12:01.320784: W tensorflow/tsl/framework/cpu_allocator_impl.cc:83] Allocation of 188160000 exceeds 10% of free system memory.\n"
          ]
        },
        {
          "name": "stdout",
          "output_type": "stream",
          "text": [
            "469/469 [==============================] - 1s 2ms/step - loss: 2.2712 - accuracy: 0.2246 - val_loss: 2.2328 - val_accuracy: 0.4521\n",
            "Epoch 2/100\n",
            "469/469 [==============================] - 1s 2ms/step - loss: 2.1982 - accuracy: 0.4281 - val_loss: 2.1520 - val_accuracy: 0.5051\n",
            "Epoch 3/100\n",
            "469/469 [==============================] - 1s 2ms/step - loss: 2.1046 - accuracy: 0.5502 - val_loss: 2.0372 - val_accuracy: 0.6329\n",
            "Epoch 4/100\n",
            "469/469 [==============================] - 1s 2ms/step - loss: 1.9682 - accuracy: 0.6148 - val_loss: 1.8712 - val_accuracy: 0.6407\n",
            "Epoch 5/100\n",
            "469/469 [==============================] - 1s 2ms/step - loss: 1.7809 - accuracy: 0.6511 - val_loss: 1.6603 - val_accuracy: 0.6851\n",
            "Epoch 6/100\n",
            "469/469 [==============================] - 1s 2ms/step - loss: 1.5645 - accuracy: 0.6857 - val_loss: 1.4412 - val_accuracy: 0.7130\n",
            "Epoch 7/100\n",
            "469/469 [==============================] - 1s 2ms/step - loss: 1.3574 - accuracy: 0.7155 - val_loss: 1.2479 - val_accuracy: 0.7392\n",
            "Epoch 8/100\n",
            "469/469 [==============================] - 1s 2ms/step - loss: 1.1833 - accuracy: 0.7433 - val_loss: 1.0924 - val_accuracy: 0.7559\n",
            "Epoch 9/100\n",
            "469/469 [==============================] - 1s 2ms/step - loss: 1.0451 - accuracy: 0.7630 - val_loss: 0.9704 - val_accuracy: 0.7823\n",
            "Epoch 10/100\n",
            "469/469 [==============================] - 1s 2ms/step - loss: 0.9372 - accuracy: 0.7826 - val_loss: 0.8754 - val_accuracy: 0.7957\n",
            "Epoch 11/100\n",
            "469/469 [==============================] - 1s 2ms/step - loss: 0.8519 - accuracy: 0.7964 - val_loss: 0.8002 - val_accuracy: 0.8092\n",
            "Epoch 12/100\n",
            "469/469 [==============================] - 1s 2ms/step - loss: 0.7835 - accuracy: 0.8100 - val_loss: 0.7381 - val_accuracy: 0.8216\n",
            "Epoch 13/100\n",
            "469/469 [==============================] - 1s 2ms/step - loss: 0.7275 - accuracy: 0.8202 - val_loss: 0.6875 - val_accuracy: 0.8320\n",
            "Epoch 14/100\n",
            "469/469 [==============================] - 1s 2ms/step - loss: 0.6810 - accuracy: 0.8293 - val_loss: 0.6453 - val_accuracy: 0.8393\n",
            "Epoch 15/100\n",
            "469/469 [==============================] - 1s 2ms/step - loss: 0.6418 - accuracy: 0.8374 - val_loss: 0.6086 - val_accuracy: 0.8473\n",
            "Epoch 16/100\n",
            "469/469 [==============================] - 1s 2ms/step - loss: 0.6083 - accuracy: 0.8452 - val_loss: 0.5775 - val_accuracy: 0.8526\n",
            "Epoch 17/100\n",
            "469/469 [==============================] - 1s 2ms/step - loss: 0.5796 - accuracy: 0.8514 - val_loss: 0.5509 - val_accuracy: 0.8581\n",
            "Epoch 18/100\n",
            "469/469 [==============================] - 1s 2ms/step - loss: 0.5547 - accuracy: 0.8569 - val_loss: 0.5275 - val_accuracy: 0.8625\n",
            "Epoch 19/100\n",
            "469/469 [==============================] - 1s 2ms/step - loss: 0.5329 - accuracy: 0.8613 - val_loss: 0.5077 - val_accuracy: 0.8674\n",
            "Epoch 20/100\n",
            "469/469 [==============================] - 1s 2ms/step - loss: 0.5138 - accuracy: 0.8653 - val_loss: 0.4898 - val_accuracy: 0.8718\n",
            "Epoch 21/100\n",
            "469/469 [==============================] - 1s 2ms/step - loss: 0.4969 - accuracy: 0.8687 - val_loss: 0.4734 - val_accuracy: 0.8760\n",
            "Epoch 22/100\n",
            "469/469 [==============================] - 1s 2ms/step - loss: 0.4818 - accuracy: 0.8723 - val_loss: 0.4596 - val_accuracy: 0.8794\n",
            "Epoch 23/100\n",
            "469/469 [==============================] - 1s 2ms/step - loss: 0.4684 - accuracy: 0.8751 - val_loss: 0.4471 - val_accuracy: 0.8815\n",
            "Epoch 24/100\n",
            "469/469 [==============================] - 1s 2ms/step - loss: 0.4562 - accuracy: 0.8778 - val_loss: 0.4355 - val_accuracy: 0.8844\n",
            "Epoch 25/100\n",
            "469/469 [==============================] - 1s 2ms/step - loss: 0.4453 - accuracy: 0.8799 - val_loss: 0.4251 - val_accuracy: 0.8854\n",
            "Epoch 26/100\n",
            "469/469 [==============================] - 1s 2ms/step - loss: 0.4354 - accuracy: 0.8827 - val_loss: 0.4169 - val_accuracy: 0.8876\n",
            "Epoch 27/100\n",
            "469/469 [==============================] - 1s 2ms/step - loss: 0.4264 - accuracy: 0.8842 - val_loss: 0.4079 - val_accuracy: 0.8890\n",
            "Epoch 28/100\n",
            "469/469 [==============================] - 1s 2ms/step - loss: 0.4182 - accuracy: 0.8862 - val_loss: 0.4000 - val_accuracy: 0.8913\n",
            "Epoch 29/100\n",
            "469/469 [==============================] - 1s 2ms/step - loss: 0.4106 - accuracy: 0.8872 - val_loss: 0.3929 - val_accuracy: 0.8917\n",
            "Epoch 30/100\n",
            "469/469 [==============================] - 1s 2ms/step - loss: 0.4037 - accuracy: 0.8890 - val_loss: 0.3864 - val_accuracy: 0.8934\n",
            "Epoch 31/100\n",
            "469/469 [==============================] - 1s 2ms/step - loss: 0.3973 - accuracy: 0.8906 - val_loss: 0.3802 - val_accuracy: 0.8959\n",
            "Epoch 32/100\n",
            "469/469 [==============================] - 1s 2ms/step - loss: 0.3914 - accuracy: 0.8919 - val_loss: 0.3752 - val_accuracy: 0.8975\n",
            "Epoch 33/100\n",
            "469/469 [==============================] - 1s 3ms/step - loss: 0.3859 - accuracy: 0.8932 - val_loss: 0.3704 - val_accuracy: 0.8970\n",
            "Epoch 34/100\n",
            "469/469 [==============================] - 1s 2ms/step - loss: 0.3809 - accuracy: 0.8945 - val_loss: 0.3652 - val_accuracy: 0.8990\n",
            "Epoch 35/100\n",
            "469/469 [==============================] - 1s 2ms/step - loss: 0.3761 - accuracy: 0.8953 - val_loss: 0.3610 - val_accuracy: 0.9001\n",
            "Epoch 36/100\n",
            "469/469 [==============================] - 1s 2ms/step - loss: 0.3716 - accuracy: 0.8966 - val_loss: 0.3566 - val_accuracy: 0.9012\n",
            "Epoch 37/100\n",
            "469/469 [==============================] - 1s 2ms/step - loss: 0.3675 - accuracy: 0.8977 - val_loss: 0.3530 - val_accuracy: 0.9019\n",
            "Epoch 38/100\n",
            "469/469 [==============================] - 1s 2ms/step - loss: 0.3635 - accuracy: 0.8984 - val_loss: 0.3491 - val_accuracy: 0.9028\n",
            "Epoch 39/100\n",
            "469/469 [==============================] - 1s 2ms/step - loss: 0.3599 - accuracy: 0.8994 - val_loss: 0.3459 - val_accuracy: 0.9034\n",
            "Epoch 40/100\n",
            "469/469 [==============================] - 1s 2ms/step - loss: 0.3564 - accuracy: 0.8999 - val_loss: 0.3422 - val_accuracy: 0.9045\n",
            "Epoch 41/100\n",
            "469/469 [==============================] - 1s 2ms/step - loss: 0.3530 - accuracy: 0.9008 - val_loss: 0.3393 - val_accuracy: 0.9053\n",
            "Epoch 42/100\n",
            "469/469 [==============================] - 1s 2ms/step - loss: 0.3499 - accuracy: 0.9013 - val_loss: 0.3367 - val_accuracy: 0.9058\n",
            "Epoch 43/100\n",
            "469/469 [==============================] - 1s 2ms/step - loss: 0.3470 - accuracy: 0.9019 - val_loss: 0.3340 - val_accuracy: 0.9066\n",
            "Epoch 44/100\n",
            "469/469 [==============================] - 1s 2ms/step - loss: 0.3440 - accuracy: 0.9030 - val_loss: 0.3308 - val_accuracy: 0.9072\n",
            "Epoch 45/100\n",
            "469/469 [==============================] - 1s 2ms/step - loss: 0.3413 - accuracy: 0.9035 - val_loss: 0.3283 - val_accuracy: 0.9078\n",
            "Epoch 46/100\n",
            "469/469 [==============================] - 1s 2ms/step - loss: 0.3387 - accuracy: 0.9037 - val_loss: 0.3262 - val_accuracy: 0.9081\n",
            "Epoch 47/100\n",
            "469/469 [==============================] - 1s 2ms/step - loss: 0.3362 - accuracy: 0.9048 - val_loss: 0.3236 - val_accuracy: 0.9088\n",
            "Epoch 48/100\n",
            "469/469 [==============================] - 1s 2ms/step - loss: 0.3338 - accuracy: 0.9052 - val_loss: 0.3220 - val_accuracy: 0.9102\n",
            "Epoch 49/100\n",
            "469/469 [==============================] - 1s 2ms/step - loss: 0.3315 - accuracy: 0.9057 - val_loss: 0.3193 - val_accuracy: 0.9100\n",
            "Epoch 50/100\n",
            "469/469 [==============================] - 1s 2ms/step - loss: 0.3293 - accuracy: 0.9062 - val_loss: 0.3175 - val_accuracy: 0.9101\n",
            "Epoch 51/100\n",
            "469/469 [==============================] - 1s 2ms/step - loss: 0.3272 - accuracy: 0.9067 - val_loss: 0.3156 - val_accuracy: 0.9108\n",
            "Epoch 52/100\n",
            "469/469 [==============================] - 1s 2ms/step - loss: 0.3251 - accuracy: 0.9069 - val_loss: 0.3137 - val_accuracy: 0.9109\n",
            "Epoch 53/100\n",
            "469/469 [==============================] - 1s 2ms/step - loss: 0.3230 - accuracy: 0.9079 - val_loss: 0.3119 - val_accuracy: 0.9118\n",
            "Epoch 54/100\n",
            "469/469 [==============================] - 1s 2ms/step - loss: 0.3211 - accuracy: 0.9081 - val_loss: 0.3099 - val_accuracy: 0.9112\n",
            "Epoch 55/100\n",
            "469/469 [==============================] - 1s 2ms/step - loss: 0.3193 - accuracy: 0.9088 - val_loss: 0.3086 - val_accuracy: 0.9125\n",
            "Epoch 56/100\n",
            "469/469 [==============================] - 1s 2ms/step - loss: 0.3174 - accuracy: 0.9092 - val_loss: 0.3069 - val_accuracy: 0.9127\n",
            "Epoch 57/100\n",
            "469/469 [==============================] - 1s 2ms/step - loss: 0.3157 - accuracy: 0.9098 - val_loss: 0.3050 - val_accuracy: 0.9126\n",
            "Epoch 58/100\n",
            "469/469 [==============================] - 1s 2ms/step - loss: 0.3140 - accuracy: 0.9103 - val_loss: 0.3037 - val_accuracy: 0.9133\n",
            "Epoch 59/100\n",
            "469/469 [==============================] - 1s 2ms/step - loss: 0.3124 - accuracy: 0.9107 - val_loss: 0.3024 - val_accuracy: 0.9138\n",
            "Epoch 60/100\n",
            "469/469 [==============================] - 1s 2ms/step - loss: 0.3107 - accuracy: 0.9112 - val_loss: 0.3006 - val_accuracy: 0.9150\n",
            "Epoch 61/100\n",
            "469/469 [==============================] - 1s 2ms/step - loss: 0.3091 - accuracy: 0.9115 - val_loss: 0.2991 - val_accuracy: 0.9152\n",
            "Epoch 62/100\n",
            "469/469 [==============================] - 1s 2ms/step - loss: 0.3076 - accuracy: 0.9118 - val_loss: 0.2982 - val_accuracy: 0.9161\n",
            "Epoch 63/100\n",
            "469/469 [==============================] - 1s 2ms/step - loss: 0.3061 - accuracy: 0.9124 - val_loss: 0.2961 - val_accuracy: 0.9150\n",
            "Epoch 64/100\n",
            "469/469 [==============================] - 1s 2ms/step - loss: 0.3047 - accuracy: 0.9128 - val_loss: 0.2950 - val_accuracy: 0.9155\n",
            "Epoch 65/100\n",
            "469/469 [==============================] - 1s 2ms/step - loss: 0.3032 - accuracy: 0.9133 - val_loss: 0.2937 - val_accuracy: 0.9155\n",
            "Epoch 66/100\n",
            "469/469 [==============================] - 1s 2ms/step - loss: 0.3018 - accuracy: 0.9132 - val_loss: 0.2929 - val_accuracy: 0.9168\n",
            "Epoch 67/100\n",
            "469/469 [==============================] - 1s 2ms/step - loss: 0.3005 - accuracy: 0.9140 - val_loss: 0.2914 - val_accuracy: 0.9169\n",
            "Epoch 68/100\n",
            "469/469 [==============================] - 1s 2ms/step - loss: 0.2992 - accuracy: 0.9143 - val_loss: 0.2900 - val_accuracy: 0.9173\n",
            "Epoch 69/100\n",
            "469/469 [==============================] - 1s 2ms/step - loss: 0.2979 - accuracy: 0.9148 - val_loss: 0.2888 - val_accuracy: 0.9172\n",
            "Epoch 70/100\n",
            "469/469 [==============================] - 1s 2ms/step - loss: 0.2966 - accuracy: 0.9145 - val_loss: 0.2880 - val_accuracy: 0.9169\n",
            "Epoch 71/100\n",
            "469/469 [==============================] - 1s 2ms/step - loss: 0.2954 - accuracy: 0.9149 - val_loss: 0.2866 - val_accuracy: 0.9184\n",
            "Epoch 72/100\n",
            "469/469 [==============================] - 1s 2ms/step - loss: 0.2941 - accuracy: 0.9154 - val_loss: 0.2862 - val_accuracy: 0.9188\n",
            "Epoch 73/100\n",
            "469/469 [==============================] - 1s 2ms/step - loss: 0.2929 - accuracy: 0.9156 - val_loss: 0.2845 - val_accuracy: 0.9198\n",
            "Epoch 74/100\n",
            "469/469 [==============================] - 1s 2ms/step - loss: 0.2917 - accuracy: 0.9157 - val_loss: 0.2836 - val_accuracy: 0.9194\n",
            "Epoch 75/100\n",
            "469/469 [==============================] - 1s 2ms/step - loss: 0.2906 - accuracy: 0.9163 - val_loss: 0.2825 - val_accuracy: 0.9201\n",
            "Epoch 76/100\n",
            "469/469 [==============================] - 1s 2ms/step - loss: 0.2894 - accuracy: 0.9167 - val_loss: 0.2818 - val_accuracy: 0.9200\n",
            "Epoch 77/100\n",
            "469/469 [==============================] - 1s 2ms/step - loss: 0.2883 - accuracy: 0.9168 - val_loss: 0.2805 - val_accuracy: 0.9202\n",
            "Epoch 78/100\n",
            "469/469 [==============================] - 1s 2ms/step - loss: 0.2872 - accuracy: 0.9170 - val_loss: 0.2792 - val_accuracy: 0.9208\n",
            "Epoch 79/100\n",
            "469/469 [==============================] - 1s 2ms/step - loss: 0.2861 - accuracy: 0.9175 - val_loss: 0.2788 - val_accuracy: 0.9217\n",
            "Epoch 80/100\n",
            "469/469 [==============================] - 1s 2ms/step - loss: 0.2851 - accuracy: 0.9176 - val_loss: 0.2774 - val_accuracy: 0.9221\n",
            "Epoch 81/100\n",
            "469/469 [==============================] - 1s 2ms/step - loss: 0.2840 - accuracy: 0.9179 - val_loss: 0.2764 - val_accuracy: 0.9215\n",
            "Epoch 82/100\n",
            "469/469 [==============================] - 1s 2ms/step - loss: 0.2830 - accuracy: 0.9181 - val_loss: 0.2758 - val_accuracy: 0.9224\n",
            "Epoch 83/100\n",
            "469/469 [==============================] - 1s 2ms/step - loss: 0.2820 - accuracy: 0.9187 - val_loss: 0.2749 - val_accuracy: 0.9216\n",
            "Epoch 84/100\n",
            "469/469 [==============================] - 1s 2ms/step - loss: 0.2809 - accuracy: 0.9190 - val_loss: 0.2744 - val_accuracy: 0.9220\n",
            "Epoch 85/100\n",
            "469/469 [==============================] - 1s 2ms/step - loss: 0.2800 - accuracy: 0.9192 - val_loss: 0.2731 - val_accuracy: 0.9234\n",
            "Epoch 86/100\n",
            "469/469 [==============================] - 1s 2ms/step - loss: 0.2790 - accuracy: 0.9195 - val_loss: 0.2723 - val_accuracy: 0.9228\n",
            "Epoch 87/100\n",
            "469/469 [==============================] - 1s 2ms/step - loss: 0.2780 - accuracy: 0.9198 - val_loss: 0.2714 - val_accuracy: 0.9225\n",
            "Epoch 88/100\n",
            "469/469 [==============================] - 1s 2ms/step - loss: 0.2770 - accuracy: 0.9200 - val_loss: 0.2701 - val_accuracy: 0.9239\n",
            "Epoch 89/100\n",
            "469/469 [==============================] - 1s 2ms/step - loss: 0.2760 - accuracy: 0.9200 - val_loss: 0.2695 - val_accuracy: 0.9238\n",
            "Epoch 90/100\n",
            "469/469 [==============================] - 1s 2ms/step - loss: 0.2751 - accuracy: 0.9205 - val_loss: 0.2688 - val_accuracy: 0.9242\n",
            "Epoch 91/100\n",
            "469/469 [==============================] - 1s 2ms/step - loss: 0.2742 - accuracy: 0.9206 - val_loss: 0.2679 - val_accuracy: 0.9242\n",
            "Epoch 92/100\n",
            "469/469 [==============================] - 1s 2ms/step - loss: 0.2733 - accuracy: 0.9211 - val_loss: 0.2671 - val_accuracy: 0.9246\n",
            "Epoch 93/100\n",
            "469/469 [==============================] - 1s 2ms/step - loss: 0.2724 - accuracy: 0.9213 - val_loss: 0.2665 - val_accuracy: 0.9243\n",
            "Epoch 94/100\n",
            "469/469 [==============================] - 1s 2ms/step - loss: 0.2714 - accuracy: 0.9217 - val_loss: 0.2654 - val_accuracy: 0.9235\n",
            "Epoch 95/100\n",
            "469/469 [==============================] - 1s 2ms/step - loss: 0.2705 - accuracy: 0.9217 - val_loss: 0.2646 - val_accuracy: 0.9246\n",
            "Epoch 96/100\n",
            "469/469 [==============================] - 1s 2ms/step - loss: 0.2697 - accuracy: 0.9220 - val_loss: 0.2636 - val_accuracy: 0.9247\n",
            "Epoch 97/100\n",
            "469/469 [==============================] - 1s 2ms/step - loss: 0.2688 - accuracy: 0.9223 - val_loss: 0.2631 - val_accuracy: 0.9258\n",
            "Epoch 98/100\n",
            "469/469 [==============================] - 1s 2ms/step - loss: 0.2679 - accuracy: 0.9233 - val_loss: 0.2626 - val_accuracy: 0.9249\n",
            "Epoch 99/100\n",
            "469/469 [==============================] - 1s 2ms/step - loss: 0.2671 - accuracy: 0.9232 - val_loss: 0.2613 - val_accuracy: 0.9252\n",
            "Epoch 100/100\n",
            "469/469 [==============================] - 1s 2ms/step - loss: 0.2662 - accuracy: 0.9231 - val_loss: 0.2607 - val_accuracy: 0.9259\n"
          ]
        }
      ],
      "source": [
        "# train the model using SGD\n",
        "print(\"[INFO] training network...\")\n",
        "sgd = SGD(0.01)\n",
        "model.compile(loss=\"categorical_crossentropy\", optimizer=sgd,\n",
        "metrics=[\"accuracy\"])\n",
        "H = model.fit(trainX, trainY, validation_data=(testX, testY),\n",
        "epochs=100, batch_size=128)"
      ]
    },
    {
      "cell_type": "code",
      "execution_count": null,
      "id": "04ae104a",
      "metadata": {
        "id": "04ae104a",
        "outputId": "3c87c1b3-02c2-42ca-9c1d-4460ee7eb789"
      },
      "outputs": [
        {
          "name": "stdout",
          "output_type": "stream",
          "text": [
            "[INFO] evaluating network...\n",
            "79/79 [==============================] - 0s 1ms/step\n",
            "              precision    recall  f1-score   support\n",
            "\n",
            "           0       0.94      0.98      0.96       980\n",
            "           1       0.97      0.97      0.97      1135\n",
            "           2       0.93      0.91      0.92      1032\n",
            "           3       0.91      0.92      0.91      1010\n",
            "           4       0.92      0.93      0.93       982\n",
            "           5       0.90      0.87      0.89       892\n",
            "           6       0.93      0.95      0.94       958\n",
            "           7       0.94      0.92      0.93      1028\n",
            "           8       0.90      0.89      0.90       974\n",
            "           9       0.91      0.91      0.91      1009\n",
            "\n",
            "    accuracy                           0.93     10000\n",
            "   macro avg       0.92      0.92      0.92     10000\n",
            "weighted avg       0.93      0.93      0.93     10000\n",
            "\n"
          ]
        }
      ],
      "source": [
        "print(\"[INFO] evaluating network...\")\n",
        "predictions = model.predict(testX, batch_size=128)\n",
        "print(classification_report(testY.argmax(axis=1),\n",
        "predictions.argmax(axis=1),\n",
        "target_names=[str(x) for x in lb.classes_]))"
      ]
    },
    {
      "cell_type": "code",
      "execution_count": null,
      "id": "63ccfcf7",
      "metadata": {
        "id": "63ccfcf7",
        "outputId": "67c449db-d573-4cec-8b5f-1441b56308ef"
      },
      "outputs": [
        {
          "data": {
            "image/png": "[encoded data removed]",
            "text/plain": [
              "<Figure size 432x288 with 1 Axes>"
            ]
          },
          "metadata": {
            "needs_background": "light"
          },
          "output_type": "display_data"
        }
      ],
      "source": [
        "plt.style.use(\"ggplot\")\n",
        "plt.figure()\n",
        "plt.plot(np.arange(0, 100), H.history[\"loss\"], label=\"train_loss\")\n",
        "plt.plot(np.arange(0, 100), H.history[\"val_loss\"], label=\"val_loss\")\n",
        "plt.plot(np.arange(0, 100), H.history[\"accuracy\"], label=\"train_acc\")\n",
        "plt.plot(np.arange(0, 100), H.history[\"val_accuracy\"], label=\"val_acc\")\n",
        "plt.title(\"Training Loss and Accuracy\")\n",
        "plt.xlabel(\"Epoch #\")\n",
        "plt.ylabel(\"Loss/Accuracy\")\n",
        "plt.legend()\n",
        "plt.savefig(\"output.jpg\")"
      ]
    },
    {
      "cell_type": "code",
      "execution_count": null,
      "id": "2a0de7c3",
      "metadata": {
        "id": "2a0de7c3",
        "outputId": "834e7e7e-d12e-495a-db09-e2dfa2f8ae8b"
      },
      "outputs": [
        {
          "name": "stdout",
          "output_type": "stream",
          "text": [
            "[INFO] accessing MNIST...\n"
          ]
        }
      ],
      "source": [
        "print(\"[INFO] accessing MNIST...\")\n",
        "((trainX, trainY), (testX, testY)) = mnist.load_data()"
      ]
    },
    {
      "cell_type": "code",
      "execution_count": null,
      "id": "c0a12251",
      "metadata": {
        "id": "c0a12251"
      },
      "outputs": [],
      "source": [
        "trainX = trainX.reshape((trainX.shape[0], 28 * 28 * 1))\n",
        "testX = testX.reshape((testX.shape[0], 28 * 28 * 1))\n",
        "xtest_nonreshape=testX.reshape((testX.shape[0],28,28))"
      ]
    },
    {
      "cell_type": "code",
      "execution_count": null,
      "id": "d716f6bf",
      "metadata": {
        "id": "d716f6bf"
      },
      "outputs": [],
      "source": [
        "# scale data to the range of [0, 1]\n",
        "trainX = trainX.astype(\"float32\") / 255.0\n",
        "testX = testX.astype(\"float32\") / 255.0"
      ]
    },
    {
      "cell_type": "code",
      "execution_count": null,
      "id": "dc90cbe0",
      "metadata": {
        "id": "dc90cbe0"
      },
      "outputs": [],
      "source": [
        "# convert the labels from integers to vectors\n",
        "lb = LabelBinarizer()\n",
        "trainY = lb.fit_transform(trainY)\n",
        "testY = lb.transform(testY)"
      ]
    },
    {
      "cell_type": "code",
      "execution_count": null,
      "id": "b55da093",
      "metadata": {
        "id": "b55da093",
        "outputId": "40b4d212-6f62-49f6-eba5-43630004b4ad"
      },
      "outputs": [
        {
          "name": "stdout",
          "output_type": "stream",
          "text": [
            "[INFO] training network...\n",
            "Epoch 1/100\n"
          ]
        },
        {
          "name": "stderr",
          "output_type": "stream",
          "text": [
            "2023-09-13 11:15:35.578222: W tensorflow/tsl/framework/cpu_allocator_impl.cc:83] Allocation of 188160000 exceeds 10% of free system memory.\n"
          ]
        },
        {
          "name": "stdout",
          "output_type": "stream",
          "text": [
            "469/469 [==============================] - 1s 2ms/step - loss: 0.2654 - accuracy: 0.9235 - val_loss: 0.2601 - val_accuracy: 0.9254\n",
            "Epoch 2/100\n",
            "469/469 [==============================] - 1s 2ms/step - loss: 0.2645 - accuracy: 0.9234 - val_loss: 0.2592 - val_accuracy: 0.9260\n",
            "Epoch 3/100\n",
            "469/469 [==============================] - 1s 2ms/step - loss: 0.2637 - accuracy: 0.9237 - val_loss: 0.2586 - val_accuracy: 0.9261\n",
            "Epoch 4/100\n",
            "469/469 [==============================] - 1s 2ms/step - loss: 0.2629 - accuracy: 0.9241 - val_loss: 0.2579 - val_accuracy: 0.9265\n",
            "Epoch 5/100\n",
            "469/469 [==============================] - 1s 2ms/step - loss: 0.2620 - accuracy: 0.9242 - val_loss: 0.2578 - val_accuracy: 0.9255\n",
            "Epoch 6/100\n",
            "469/469 [==============================] - 1s 2ms/step - loss: 0.2612 - accuracy: 0.9243 - val_loss: 0.2564 - val_accuracy: 0.9265\n",
            "Epoch 7/100\n",
            "469/469 [==============================] - 1s 2ms/step - loss: 0.2604 - accuracy: 0.9247 - val_loss: 0.2555 - val_accuracy: 0.9267\n",
            "Epoch 8/100\n",
            "469/469 [==============================] - 1s 2ms/step - loss: 0.2596 - accuracy: 0.9246 - val_loss: 0.2550 - val_accuracy: 0.9277\n",
            "Epoch 9/100\n",
            "469/469 [==============================] - 1s 2ms/step - loss: 0.2588 - accuracy: 0.9251 - val_loss: 0.2540 - val_accuracy: 0.9280\n",
            "Epoch 10/100\n",
            "469/469 [==============================] - 1s 2ms/step - loss: 0.2580 - accuracy: 0.9255 - val_loss: 0.2534 - val_accuracy: 0.9270\n",
            "Epoch 11/100\n",
            "469/469 [==============================] - 1s 2ms/step - loss: 0.2571 - accuracy: 0.9253 - val_loss: 0.2525 - val_accuracy: 0.9271\n",
            "Epoch 12/100\n",
            "469/469 [==============================] - 1s 2ms/step - loss: 0.2564 - accuracy: 0.9256 - val_loss: 0.2523 - val_accuracy: 0.9278\n",
            "Epoch 13/100\n",
            "469/469 [==============================] - 1s 2ms/step - loss: 0.2556 - accuracy: 0.9257 - val_loss: 0.2520 - val_accuracy: 0.9277\n",
            "Epoch 14/100\n",
            "469/469 [==============================] - 1s 2ms/step - loss: 0.2549 - accuracy: 0.9260 - val_loss: 0.2511 - val_accuracy: 0.9275\n",
            "Epoch 15/100\n",
            "469/469 [==============================] - 1s 2ms/step - loss: 0.2540 - accuracy: 0.9263 - val_loss: 0.2502 - val_accuracy: 0.9278\n",
            "Epoch 16/100\n",
            "469/469 [==============================] - 1s 2ms/step - loss: 0.2533 - accuracy: 0.9262 - val_loss: 0.2493 - val_accuracy: 0.9291\n",
            "Epoch 17/100\n",
            "469/469 [==============================] - 1s 2ms/step - loss: 0.2525 - accuracy: 0.9267 - val_loss: 0.2488 - val_accuracy: 0.9282\n",
            "Epoch 18/100\n",
            "469/469 [==============================] - 1s 2ms/step - loss: 0.2517 - accuracy: 0.9267 - val_loss: 0.2478 - val_accuracy: 0.9295\n",
            "Epoch 19/100\n",
            "469/469 [==============================] - 1s 2ms/step - loss: 0.2510 - accuracy: 0.9272 - val_loss: 0.2470 - val_accuracy: 0.9298\n",
            "Epoch 20/100\n",
            "469/469 [==============================] - 1s 2ms/step - loss: 0.2502 - accuracy: 0.9270 - val_loss: 0.2467 - val_accuracy: 0.9298\n",
            "Epoch 21/100\n",
            "469/469 [==============================] - 1s 2ms/step - loss: 0.2494 - accuracy: 0.9274 - val_loss: 0.2460 - val_accuracy: 0.9291\n",
            "Epoch 22/100\n",
            "469/469 [==============================] - 1s 2ms/step - loss: 0.2486 - accuracy: 0.9279 - val_loss: 0.2455 - val_accuracy: 0.9297\n",
            "Epoch 23/100\n",
            "469/469 [==============================] - 1s 2ms/step - loss: 0.2480 - accuracy: 0.9281 - val_loss: 0.2445 - val_accuracy: 0.9292\n",
            "Epoch 24/100\n",
            "469/469 [==============================] - 1s 2ms/step - loss: 0.2472 - accuracy: 0.9282 - val_loss: 0.2441 - val_accuracy: 0.9299\n",
            "Epoch 25/100\n",
            "469/469 [==============================] - 1s 2ms/step - loss: 0.2464 - accuracy: 0.9284 - val_loss: 0.2432 - val_accuracy: 0.9305\n",
            "Epoch 26/100\n",
            "469/469 [==============================] - 1s 2ms/step - loss: 0.2457 - accuracy: 0.9286 - val_loss: 0.2428 - val_accuracy: 0.9309\n",
            "Epoch 27/100\n",
            "469/469 [==============================] - 1s 2ms/step - loss: 0.2449 - accuracy: 0.9289 - val_loss: 0.2424 - val_accuracy: 0.9313\n",
            "Epoch 28/100\n",
            "469/469 [==============================] - 1s 2ms/step - loss: 0.2442 - accuracy: 0.9290 - val_loss: 0.2417 - val_accuracy: 0.9313\n",
            "Epoch 29/100\n",
            "469/469 [==============================] - 1s 2ms/step - loss: 0.2434 - accuracy: 0.9293 - val_loss: 0.2406 - val_accuracy: 0.9316\n",
            "Epoch 30/100\n",
            "469/469 [==============================] - 1s 2ms/step - loss: 0.2427 - accuracy: 0.9297 - val_loss: 0.2399 - val_accuracy: 0.9317\n",
            "Epoch 31/100\n",
            "469/469 [==============================] - 1s 2ms/step - loss: 0.2419 - accuracy: 0.9296 - val_loss: 0.2397 - val_accuracy: 0.9320\n",
            "Epoch 32/100\n",
            "469/469 [==============================] - 1s 2ms/step - loss: 0.2412 - accuracy: 0.9301 - val_loss: 0.2389 - val_accuracy: 0.9313\n",
            "Epoch 33/100\n",
            "469/469 [==============================] - 1s 2ms/step - loss: 0.2404 - accuracy: 0.9301 - val_loss: 0.2386 - val_accuracy: 0.9319\n",
            "Epoch 34/100\n",
            "469/469 [==============================] - 1s 2ms/step - loss: 0.2398 - accuracy: 0.9303 - val_loss: 0.2374 - val_accuracy: 0.9327\n",
            "Epoch 35/100\n",
            "469/469 [==============================] - 1s 2ms/step - loss: 0.2391 - accuracy: 0.9308 - val_loss: 0.2365 - val_accuracy: 0.9322\n",
            "Epoch 36/100\n",
            "469/469 [==============================] - 1s 2ms/step - loss: 0.2384 - accuracy: 0.9307 - val_loss: 0.2361 - val_accuracy: 0.9328\n",
            "Epoch 37/100\n",
            "469/469 [==============================] - 1s 2ms/step - loss: 0.2376 - accuracy: 0.9310 - val_loss: 0.2356 - val_accuracy: 0.9331\n",
            "Epoch 38/100\n",
            "469/469 [==============================] - 1s 2ms/step - loss: 0.2369 - accuracy: 0.9309 - val_loss: 0.2346 - val_accuracy: 0.9329\n",
            "Epoch 39/100\n",
            "469/469 [==============================] - 1s 2ms/step - loss: 0.2362 - accuracy: 0.9317 - val_loss: 0.2342 - val_accuracy: 0.9330\n",
            "Epoch 40/100\n",
            "469/469 [==============================] - 1s 2ms/step - loss: 0.2355 - accuracy: 0.9316 - val_loss: 0.2332 - val_accuracy: 0.9335\n",
            "Epoch 41/100\n",
            "469/469 [==============================] - 1s 2ms/step - loss: 0.2348 - accuracy: 0.9318 - val_loss: 0.2327 - val_accuracy: 0.9332\n",
            "Epoch 42/100\n",
            "469/469 [==============================] - 1s 2ms/step - loss: 0.2340 - accuracy: 0.9320 - val_loss: 0.2324 - val_accuracy: 0.9334\n",
            "Epoch 43/100\n",
            "469/469 [==============================] - 1s 2ms/step - loss: 0.2334 - accuracy: 0.9326 - val_loss: 0.2318 - val_accuracy: 0.9338\n",
            "Epoch 44/100\n",
            "469/469 [==============================] - 1s 2ms/step - loss: 0.2327 - accuracy: 0.9324 - val_loss: 0.2308 - val_accuracy: 0.9341\n",
            "Epoch 45/100\n",
            "469/469 [==============================] - 1s 2ms/step - loss: 0.2319 - accuracy: 0.9328 - val_loss: 0.2308 - val_accuracy: 0.9337\n",
            "Epoch 46/100\n",
            "469/469 [==============================] - 1s 2ms/step - loss: 0.2313 - accuracy: 0.9328 - val_loss: 0.2295 - val_accuracy: 0.9341\n",
            "Epoch 47/100\n",
            "469/469 [==============================] - 1s 2ms/step - loss: 0.2306 - accuracy: 0.9334 - val_loss: 0.2289 - val_accuracy: 0.9342\n",
            "Epoch 48/100\n",
            "469/469 [==============================] - 1s 2ms/step - loss: 0.2298 - accuracy: 0.9332 - val_loss: 0.2290 - val_accuracy: 0.9340\n",
            "Epoch 49/100\n",
            "469/469 [==============================] - 1s 2ms/step - loss: 0.2292 - accuracy: 0.9337 - val_loss: 0.2277 - val_accuracy: 0.9339\n",
            "Epoch 50/100\n",
            "469/469 [==============================] - 1s 2ms/step - loss: 0.2285 - accuracy: 0.9339 - val_loss: 0.2272 - val_accuracy: 0.9354\n",
            "Epoch 51/100\n",
            "469/469 [==============================] - 1s 2ms/step - loss: 0.2277 - accuracy: 0.9342 - val_loss: 0.2268 - val_accuracy: 0.9349\n",
            "Epoch 52/100\n",
            "469/469 [==============================] - 1s 2ms/step - loss: 0.2271 - accuracy: 0.9345 - val_loss: 0.2261 - val_accuracy: 0.9355\n",
            "Epoch 53/100\n",
            "469/469 [==============================] - 1s 2ms/step - loss: 0.2264 - accuracy: 0.9345 - val_loss: 0.2257 - val_accuracy: 0.9359\n",
            "Epoch 54/100\n",
            "469/469 [==============================] - 1s 2ms/step - loss: 0.2257 - accuracy: 0.9348 - val_loss: 0.2251 - val_accuracy: 0.9357\n",
            "Epoch 55/100\n",
            "469/469 [==============================] - 1s 2ms/step - loss: 0.2251 - accuracy: 0.9349 - val_loss: 0.2242 - val_accuracy: 0.9357\n",
            "Epoch 56/100\n",
            "469/469 [==============================] - 1s 2ms/step - loss: 0.2244 - accuracy: 0.9352 - val_loss: 0.2237 - val_accuracy: 0.9352\n",
            "Epoch 57/100\n",
            "469/469 [==============================] - 1s 2ms/step - loss: 0.2237 - accuracy: 0.9354 - val_loss: 0.2228 - val_accuracy: 0.9362\n",
            "Epoch 58/100\n",
            "469/469 [==============================] - 1s 2ms/step - loss: 0.2230 - accuracy: 0.9354 - val_loss: 0.2225 - val_accuracy: 0.9359\n",
            "Epoch 59/100\n",
            "469/469 [==============================] - 1s 2ms/step - loss: 0.2224 - accuracy: 0.9355 - val_loss: 0.2219 - val_accuracy: 0.9357\n",
            "Epoch 60/100\n",
            "469/469 [==============================] - 1s 2ms/step - loss: 0.2217 - accuracy: 0.9361 - val_loss: 0.2213 - val_accuracy: 0.9367\n",
            "Epoch 61/100\n",
            "469/469 [==============================] - 1s 2ms/step - loss: 0.2210 - accuracy: 0.9363 - val_loss: 0.2209 - val_accuracy: 0.9368\n",
            "Epoch 62/100\n",
            "469/469 [==============================] - 1s 2ms/step - loss: 0.2204 - accuracy: 0.9369 - val_loss: 0.2197 - val_accuracy: 0.9366\n",
            "Epoch 63/100\n",
            "469/469 [==============================] - 1s 2ms/step - loss: 0.2197 - accuracy: 0.9366 - val_loss: 0.2194 - val_accuracy: 0.9367\n",
            "Epoch 64/100\n",
            "469/469 [==============================] - 1s 2ms/step - loss: 0.2190 - accuracy: 0.9370 - val_loss: 0.2192 - val_accuracy: 0.9375\n",
            "Epoch 65/100\n",
            "469/469 [==============================] - 1s 2ms/step - loss: 0.2183 - accuracy: 0.9372 - val_loss: 0.2180 - val_accuracy: 0.9370\n",
            "Epoch 66/100\n",
            "469/469 [==============================] - 1s 2ms/step - loss: 0.2177 - accuracy: 0.9373 - val_loss: 0.2173 - val_accuracy: 0.9371\n",
            "Epoch 67/100\n",
            "469/469 [==============================] - 1s 2ms/step - loss: 0.2171 - accuracy: 0.9378 - val_loss: 0.2171 - val_accuracy: 0.9373\n",
            "Epoch 68/100\n",
            "469/469 [==============================] - 1s 2ms/step - loss: 0.2165 - accuracy: 0.9377 - val_loss: 0.2164 - val_accuracy: 0.9378\n",
            "Epoch 69/100\n",
            "469/469 [==============================] - 1s 2ms/step - loss: 0.2158 - accuracy: 0.9379 - val_loss: 0.2158 - val_accuracy: 0.9375\n",
            "Epoch 70/100\n",
            "469/469 [==============================] - 1s 2ms/step - loss: 0.2151 - accuracy: 0.9381 - val_loss: 0.2150 - val_accuracy: 0.9380\n",
            "Epoch 71/100\n",
            "469/469 [==============================] - 1s 2ms/step - loss: 0.2145 - accuracy: 0.9382 - val_loss: 0.2145 - val_accuracy: 0.9382\n",
            "Epoch 72/100\n",
            "469/469 [==============================] - 1s 2ms/step - loss: 0.2139 - accuracy: 0.9384 - val_loss: 0.2142 - val_accuracy: 0.9380\n",
            "Epoch 73/100\n",
            "469/469 [==============================] - 1s 2ms/step - loss: 0.2131 - accuracy: 0.9390 - val_loss: 0.2139 - val_accuracy: 0.9385\n",
            "Epoch 74/100\n",
            "469/469 [==============================] - 1s 2ms/step - loss: 0.2126 - accuracy: 0.9388 - val_loss: 0.2127 - val_accuracy: 0.9381\n",
            "Epoch 75/100\n",
            "469/469 [==============================] - 1s 2ms/step - loss: 0.2120 - accuracy: 0.9392 - val_loss: 0.2126 - val_accuracy: 0.9382\n",
            "Epoch 76/100\n",
            "469/469 [==============================] - 1s 2ms/step - loss: 0.2113 - accuracy: 0.9395 - val_loss: 0.2124 - val_accuracy: 0.9383\n",
            "Epoch 77/100\n",
            "469/469 [==============================] - 1s 2ms/step - loss: 0.2107 - accuracy: 0.9393 - val_loss: 0.2111 - val_accuracy: 0.9390\n",
            "Epoch 78/100\n",
            "469/469 [==============================] - 1s 2ms/step - loss: 0.2100 - accuracy: 0.9396 - val_loss: 0.2106 - val_accuracy: 0.9380\n",
            "Epoch 79/100\n",
            "469/469 [==============================] - 1s 2ms/step - loss: 0.2094 - accuracy: 0.9399 - val_loss: 0.2100 - val_accuracy: 0.9390\n",
            "Epoch 80/100\n",
            "469/469 [==============================] - 1s 2ms/step - loss: 0.2087 - accuracy: 0.9400 - val_loss: 0.2095 - val_accuracy: 0.9393\n",
            "Epoch 81/100\n",
            "469/469 [==============================] - 1s 2ms/step - loss: 0.2081 - accuracy: 0.9406 - val_loss: 0.2092 - val_accuracy: 0.9391\n",
            "Epoch 82/100\n",
            "469/469 [==============================] - 1s 2ms/step - loss: 0.2075 - accuracy: 0.9406 - val_loss: 0.2086 - val_accuracy: 0.9387\n",
            "Epoch 83/100\n",
            "469/469 [==============================] - 1s 2ms/step - loss: 0.2069 - accuracy: 0.9409 - val_loss: 0.2078 - val_accuracy: 0.9391\n",
            "Epoch 84/100\n",
            "469/469 [==============================] - 1s 2ms/step - loss: 0.2063 - accuracy: 0.9409 - val_loss: 0.2072 - val_accuracy: 0.9392\n",
            "Epoch 85/100\n",
            "469/469 [==============================] - 1s 2ms/step - loss: 0.2057 - accuracy: 0.9412 - val_loss: 0.2070 - val_accuracy: 0.9397\n",
            "Epoch 86/100\n",
            "469/469 [==============================] - 1s 2ms/step - loss: 0.2051 - accuracy: 0.9413 - val_loss: 0.2061 - val_accuracy: 0.9398\n",
            "Epoch 87/100\n",
            "469/469 [==============================] - 1s 2ms/step - loss: 0.2044 - accuracy: 0.9417 - val_loss: 0.2055 - val_accuracy: 0.9398\n",
            "Epoch 88/100\n",
            "469/469 [==============================] - 1s 2ms/step - loss: 0.2039 - accuracy: 0.9417 - val_loss: 0.2052 - val_accuracy: 0.9400\n",
            "Epoch 89/100\n",
            "469/469 [==============================] - 1s 2ms/step - loss: 0.2033 - accuracy: 0.9419 - val_loss: 0.2044 - val_accuracy: 0.9399\n",
            "Epoch 90/100\n",
            "469/469 [==============================] - 1s 2ms/step - loss: 0.2027 - accuracy: 0.9420 - val_loss: 0.2037 - val_accuracy: 0.9397\n",
            "Epoch 91/100\n",
            "469/469 [==============================] - 1s 2ms/step - loss: 0.2021 - accuracy: 0.9420 - val_loss: 0.2033 - val_accuracy: 0.9411\n",
            "Epoch 92/100\n",
            "469/469 [==============================] - 1s 2ms/step - loss: 0.2015 - accuracy: 0.9424 - val_loss: 0.2026 - val_accuracy: 0.9409\n",
            "Epoch 93/100\n",
            "469/469 [==============================] - 1s 2ms/step - loss: 0.2008 - accuracy: 0.9426 - val_loss: 0.2026 - val_accuracy: 0.9405\n",
            "Epoch 94/100\n",
            "469/469 [==============================] - 1s 2ms/step - loss: 0.2003 - accuracy: 0.9428 - val_loss: 0.2018 - val_accuracy: 0.9408\n",
            "Epoch 95/100\n",
            "469/469 [==============================] - 1s 2ms/step - loss: 0.1997 - accuracy: 0.9428 - val_loss: 0.2017 - val_accuracy: 0.9412\n",
            "Epoch 96/100\n",
            "469/469 [==============================] - 1s 2ms/step - loss: 0.1991 - accuracy: 0.9431 - val_loss: 0.2007 - val_accuracy: 0.9417\n",
            "Epoch 97/100\n",
            "469/469 [==============================] - 1s 2ms/step - loss: 0.1985 - accuracy: 0.9434 - val_loss: 0.2001 - val_accuracy: 0.9416\n",
            "Epoch 98/100\n",
            "469/469 [==============================] - 1s 2ms/step - loss: 0.1979 - accuracy: 0.9433 - val_loss: 0.1997 - val_accuracy: 0.9412\n",
            "Epoch 99/100\n",
            "469/469 [==============================] - 1s 2ms/step - loss: 0.1973 - accuracy: 0.9434 - val_loss: 0.1991 - val_accuracy: 0.9412\n",
            "Epoch 100/100\n",
            "469/469 [==============================] - 1s 2ms/step - loss: 0.1968 - accuracy: 0.9437 - val_loss: 0.1987 - val_accuracy: 0.9418\n"
          ]
        }
      ],
      "source": [
        "print(\"[INFO] training network...\")\n",
        "sgd = SGD(0.01)\n",
        "model.compile(loss=\"categorical_crossentropy\", optimizer=sgd,\n",
        "metrics=[\"accuracy\"])\n",
        "H = model.fit(trainX, trainY, validation_data=(testX, testY),\n",
        "epochs=100, batch_size=128)"
      ]
    },
    {
      "cell_type": "code",
      "execution_count": null,
      "id": "fda14312",
      "metadata": {
        "id": "fda14312",
        "outputId": "8e247cc4-3772-4c9d-a06d-8b0319745b67"
      },
      "outputs": [
        {
          "name": "stdout",
          "output_type": "stream",
          "text": [
            "[INFO] evaluating network...\n",
            "79/79 [==============================] - 0s 1ms/step\n",
            "              precision    recall  f1-score   support\n",
            "\n",
            "           0       0.95      0.98      0.97       980\n",
            "           1       0.97      0.98      0.98      1135\n",
            "           2       0.94      0.94      0.94      1032\n",
            "           3       0.93      0.94      0.94      1010\n",
            "           4       0.93      0.95      0.94       982\n",
            "           5       0.93      0.90      0.92       892\n",
            "           6       0.94      0.96      0.95       958\n",
            "           7       0.95      0.93      0.94      1028\n",
            "           8       0.93      0.91      0.92       974\n",
            "           9       0.93      0.92      0.93      1009\n",
            "\n",
            "    accuracy                           0.94     10000\n",
            "   macro avg       0.94      0.94      0.94     10000\n",
            "weighted avg       0.94      0.94      0.94     10000\n",
            "\n"
          ]
        }
      ],
      "source": [
        "print(\"[INFO] evaluating network...\")\n",
        "predictions = model.predict(testX, batch_size=128)\n",
        "print(classification_report(testY.argmax(axis=1),\n",
        "predictions.argmax(axis=1),\n",
        "target_names=[str(x) for x in lb.classes_]))"
      ]
    },
    {
      "cell_type": "code",
      "execution_count": null,
      "id": "a1883821",
      "metadata": {
        "id": "a1883821",
        "outputId": "c4233063-9d79-4655-a44b-9f10cbf89aa6"
      },
      "outputs": [
        {
          "data": {
            "image/png": "[encoded data removed]",
            "text/plain": [
              "<Figure size 432x288 with 1 Axes>"
            ]
          },
          "metadata": {},
          "output_type": "display_data"
        }
      ],
      "source": [
        "plt.style.use(\"ggplot\")\n",
        "plt.figure()\n",
        "plt.plot(np.arange(0, 100), H.history[\"loss\"], label=\"train_loss\")\n",
        "plt.plot(np.arange(0, 100), H.history[\"val_loss\"], label=\"val_loss\")\n",
        "plt.plot(np.arange(0, 100), H.history[\"accuracy\"], label=\"train_acc\")\n",
        "plt.plot(np.arange(0, 100), H.history[\"val_accuracy\"], label=\"val_acc\")\n",
        "plt.title(\"Training Loss and Accuracy\")\n",
        "plt.xlabel(\"Epoch #\")\n",
        "plt.ylabel(\"Loss/Accuracy\")\n",
        "plt.legend()\n",
        "plt.savefig(\"output1.jpg\")"
      ]
    },
    {
      "cell_type": "code",
      "execution_count": null,
      "id": "7c20a5cd",
      "metadata": {
        "id": "7c20a5cd",
        "outputId": "fb1b0201-8ba3-47cd-c90a-8ac3087237d6"
      },
      "outputs": [
        {
          "name": "stdout",
          "output_type": "stream",
          "text": [
            "313/313 [==============================] - 0s 585us/step\n",
            "The predicted value is 7\n"
          ]
        },
        {
          "data": {
            "image/png": "[encoded data removed]",
            "text/plain": [
              "<Figure size 432x288 with 1 Axes>"
            ]
          },
          "metadata": {},
          "output_type": "display_data"
        }
      ],
      "source": [
        "import random\n",
        "\n",
        "for i in range(0,9):\n",
        "    r=random.randint(0,100)\n",
        "plt.imshow(xtest_nonreshape[r])\n",
        "\n",
        "prediction=model.predict(testX)\n",
        "print(f\"The predicted value is {np.argmax(prediction[r])}\")"
      ]
    }
  ],
  "metadata": {
    "kernelspec": {
      "display_name": "Python 3 (ipykernel)",
      "language": "python",
      "name": "python3"
    },
    "language_info": {
      "codemirror_mode": {
        "name": "ipython",
        "version": 3
      },
      "file_extension": ".py",
      "mimetype": "text/x-python",
      "name": "python",
      "nbconvert_exporter": "python",
      "pygments_lexer": "ipython3",
      "version": "3.10.6"
    },
    "colab": {
      "provenance": []
    }
  },
  "nbformat": 4,
  "nbformat_minor": 5
}