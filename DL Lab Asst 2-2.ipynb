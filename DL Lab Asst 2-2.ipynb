{
 "cells": [
  {
   "cell_type": "code",
   "execution_count": 8,
   "id": "7ca23048",
   "metadata": {},
   "outputs": [],
   "source": [
    "from sklearn.preprocessing import LabelBinarizer\n",
    "from sklearn.metrics import classification_report\n",
    "from tensorflow.keras.models import Sequential\n",
    "from tensorflow.keras.layers import Dense\n",
    "from tensorflow.keras.optimizers import SGD\n",
    "from tensorflow.keras.datasets import cifar10\n",
    "from tensorflow.keras import backend as K\n",
    "import matplotlib.pyplot as plt\n",
    "import numpy as np\n",
    "import argparse"
   ]
  },
  {
   "cell_type": "code",
   "execution_count": 9,
   "id": "5aefad51",
   "metadata": {},
   "outputs": [
    {
     "name": "stdout",
     "output_type": "stream",
     "text": [
      "[INFO] accessing MNIST...\n"
     ]
    }
   ],
   "source": [
    "print(\"[INFO] accessing MNIST...\")\n",
    "((trainX, trainY), (testX, testY)) = cifar10.load_data()"
   ]
  },
  {
   "cell_type": "code",
   "execution_count": 10,
   "id": "c96b56a9",
   "metadata": {},
   "outputs": [],
   "source": [
    "# each image in the MNIST dataset is represented as a 28x28x1\n",
    "# image, but in order to apply a standard neural network we must\n",
    "# first \"flatten\" the image to be simple list of 28x28=784 pixels\n",
    "trainX = trainX.reshape((trainX.shape[0], 32 * 32 * 3))\n",
    "testX = testX.reshape((testX.shape[0], 32 * 32 * 3))"
   ]
  },
  {
   "cell_type": "code",
   "execution_count": 11,
   "id": "3d2deecc",
   "metadata": {},
   "outputs": [],
   "source": [
    "# scale data to the range of [0, 1]\n",
    "trainX = trainX.astype(\"float32\") / 255.0\n",
    "testX = testX.astype(\"float32\") / 255.0"
   ]
  },
  {
   "cell_type": "code",
   "execution_count": 12,
   "id": "7511dc53",
   "metadata": {},
   "outputs": [],
   "source": [
    "# convert the labels from integers to vectors\n",
    "lb = LabelBinarizer()\n",
    "trainY = lb.fit_transform(trainY)\n",
    "testY = lb.transform(testY)"
   ]
  },
  {
   "cell_type": "code",
   "execution_count": 15,
   "id": "e1faef43",
   "metadata": {},
   "outputs": [],
   "source": [
    "# define the 784-256-128-10 architecture using Keras\n",
    "model = Sequential()\n",
    "model.add(Dense(256, input_shape=(3072,), activation=\"sigmoid\"))\n",
    "model.add(Dense(128, activation=\"sigmoid\"))\n",
    "model.add(Dense(10, activation=\"softmax\"))"
   ]
  },
  {
   "cell_type": "code",
   "execution_count": 16,
   "id": "9ecc89eb",
   "metadata": {},
   "outputs": [
    {
     "name": "stdout",
     "output_type": "stream",
     "text": [
      "[INFO] training network...\n",
      "Epoch 1/100\n"
     ]
    },
    {
     "name": "stderr",
     "output_type": "stream",
     "text": [
      "2023-09-13 12:19:30.991660: W tensorflow/tsl/framework/cpu_allocator_impl.cc:83] Allocation of 614400000 exceeds 10% of free system memory.\n"
     ]
    },
    {
     "name": "stdout",
     "output_type": "stream",
     "text": [
      "186/196 [===========================>..] - ETA: 0s - loss: 2.3104 - accuracy: 0.1436"
     ]
    },
    {
     "name": "stderr",
     "output_type": "stream",
     "text": [
      "2023-09-13 12:19:41.969410: W tensorflow/tsl/framework/cpu_allocator_impl.cc:83] Allocation of 122880000 exceeds 10% of free system memory.\n"
     ]
    },
    {
     "name": "stdout",
     "output_type": "stream",
     "text": [
      "196/196 [==============================] - 8s 8ms/step - loss: 2.3093 - accuracy: 0.1456 - val_loss: 2.2846 - val_accuracy: 0.1970\n",
      "Epoch 2/100\n",
      "196/196 [==============================] - 1s 5ms/step - loss: 2.2774 - accuracy: 0.1957 - val_loss: 2.2690 - val_accuracy: 0.2263\n",
      "Epoch 3/100\n",
      "196/196 [==============================] - 1s 5ms/step - loss: 2.2621 - accuracy: 0.2169 - val_loss: 2.2538 - val_accuracy: 0.2470\n",
      "Epoch 4/100\n",
      "196/196 [==============================] - 1s 5ms/step - loss: 2.2464 - accuracy: 0.2337 - val_loss: 2.2370 - val_accuracy: 0.2486\n",
      "Epoch 5/100\n",
      "196/196 [==============================] - 1s 5ms/step - loss: 2.2296 - accuracy: 0.2436 - val_loss: 2.2198 - val_accuracy: 0.2437\n",
      "Epoch 6/100\n",
      "196/196 [==============================] - 1s 7ms/step - loss: 2.2115 - accuracy: 0.2486 - val_loss: 2.2007 - val_accuracy: 0.2573\n",
      "Epoch 7/100\n",
      "196/196 [==============================] - 1s 5ms/step - loss: 2.1918 - accuracy: 0.2574 - val_loss: 2.1806 - val_accuracy: 0.2716\n",
      "Epoch 8/100\n",
      "196/196 [==============================] - 1s 5ms/step - loss: 2.1712 - accuracy: 0.2650 - val_loss: 2.1594 - val_accuracy: 0.2749\n",
      "Epoch 9/100\n",
      "196/196 [==============================] - 1s 6ms/step - loss: 2.1502 - accuracy: 0.2703 - val_loss: 2.1386 - val_accuracy: 0.2800\n",
      "Epoch 10/100\n",
      "196/196 [==============================] - 1s 6ms/step - loss: 2.1296 - accuracy: 0.2731 - val_loss: 2.1179 - val_accuracy: 0.2859\n",
      "Epoch 11/100\n",
      "196/196 [==============================] - 1s 6ms/step - loss: 2.1099 - accuracy: 0.2779 - val_loss: 2.0994 - val_accuracy: 0.2835\n",
      "Epoch 12/100\n",
      "196/196 [==============================] - 1s 5ms/step - loss: 2.0917 - accuracy: 0.2809 - val_loss: 2.0813 - val_accuracy: 0.2951\n",
      "Epoch 13/100\n",
      "196/196 [==============================] - 1s 5ms/step - loss: 2.0750 - accuracy: 0.2859 - val_loss: 2.0651 - val_accuracy: 0.2924\n",
      "Epoch 14/100\n",
      "196/196 [==============================] - 1s 5ms/step - loss: 2.0596 - accuracy: 0.2905 - val_loss: 2.0506 - val_accuracy: 0.2939\n",
      "Epoch 15/100\n",
      "196/196 [==============================] - 1s 5ms/step - loss: 2.0455 - accuracy: 0.2914 - val_loss: 2.0368 - val_accuracy: 0.2985\n",
      "Epoch 16/100\n",
      "196/196 [==============================] - 1s 5ms/step - loss: 2.0323 - accuracy: 0.2963 - val_loss: 2.0248 - val_accuracy: 0.2898\n",
      "Epoch 17/100\n",
      "196/196 [==============================] - 1s 5ms/step - loss: 2.0203 - accuracy: 0.2970 - val_loss: 2.0127 - val_accuracy: 0.2967\n",
      "Epoch 18/100\n",
      "196/196 [==============================] - 1s 5ms/step - loss: 2.0090 - accuracy: 0.2988 - val_loss: 2.0021 - val_accuracy: 0.2975\n",
      "Epoch 19/100\n",
      "196/196 [==============================] - 1s 5ms/step - loss: 1.9985 - accuracy: 0.3018 - val_loss: 1.9916 - val_accuracy: 0.3078\n",
      "Epoch 20/100\n",
      "196/196 [==============================] - 1s 5ms/step - loss: 1.9887 - accuracy: 0.3036 - val_loss: 1.9822 - val_accuracy: 0.3045\n",
      "Epoch 21/100\n",
      "196/196 [==============================] - 1s 5ms/step - loss: 1.9794 - accuracy: 0.3065 - val_loss: 1.9732 - val_accuracy: 0.3059\n",
      "Epoch 22/100\n",
      "196/196 [==============================] - 1s 5ms/step - loss: 1.9709 - accuracy: 0.3076 - val_loss: 1.9645 - val_accuracy: 0.3097\n",
      "Epoch 23/100\n",
      "196/196 [==============================] - 1s 5ms/step - loss: 1.9627 - accuracy: 0.3093 - val_loss: 1.9582 - val_accuracy: 0.3182\n",
      "Epoch 24/100\n",
      "196/196 [==============================] - 1s 5ms/step - loss: 1.9552 - accuracy: 0.3114 - val_loss: 1.9501 - val_accuracy: 0.3151\n",
      "Epoch 25/100\n",
      "196/196 [==============================] - 1s 5ms/step - loss: 1.9481 - accuracy: 0.3144 - val_loss: 1.9426 - val_accuracy: 0.3166\n",
      "Epoch 26/100\n",
      "196/196 [==============================] - 1s 5ms/step - loss: 1.9412 - accuracy: 0.3160 - val_loss: 1.9369 - val_accuracy: 0.3181\n",
      "Epoch 27/100\n",
      "196/196 [==============================] - 1s 5ms/step - loss: 1.9350 - accuracy: 0.3179 - val_loss: 1.9304 - val_accuracy: 0.3174\n",
      "Epoch 28/100\n",
      "196/196 [==============================] - 1s 5ms/step - loss: 1.9289 - accuracy: 0.3200 - val_loss: 1.9243 - val_accuracy: 0.3166\n",
      "Epoch 29/100\n",
      "196/196 [==============================] - 1s 5ms/step - loss: 1.9232 - accuracy: 0.3219 - val_loss: 1.9188 - val_accuracy: 0.3211\n",
      "Epoch 30/100\n",
      "196/196 [==============================] - 1s 5ms/step - loss: 1.9178 - accuracy: 0.3244 - val_loss: 1.9139 - val_accuracy: 0.3225\n",
      "Epoch 31/100\n",
      "196/196 [==============================] - 1s 5ms/step - loss: 1.9126 - accuracy: 0.3248 - val_loss: 1.9085 - val_accuracy: 0.3272\n",
      "Epoch 32/100\n",
      "196/196 [==============================] - 1s 5ms/step - loss: 1.9076 - accuracy: 0.3281 - val_loss: 1.9038 - val_accuracy: 0.3239\n",
      "Epoch 33/100\n",
      "196/196 [==============================] - 1s 5ms/step - loss: 1.9030 - accuracy: 0.3300 - val_loss: 1.9000 - val_accuracy: 0.3298\n",
      "Epoch 34/100\n",
      "196/196 [==============================] - 1s 5ms/step - loss: 1.8985 - accuracy: 0.3312 - val_loss: 1.8958 - val_accuracy: 0.3307\n",
      "Epoch 35/100\n",
      "196/196 [==============================] - 1s 5ms/step - loss: 1.8943 - accuracy: 0.3323 - val_loss: 1.8910 - val_accuracy: 0.3301\n",
      "Epoch 36/100\n",
      "196/196 [==============================] - 1s 6ms/step - loss: 1.8901 - accuracy: 0.3343 - val_loss: 1.8872 - val_accuracy: 0.3304\n",
      "Epoch 37/100\n",
      "196/196 [==============================] - 1s 6ms/step - loss: 1.8863 - accuracy: 0.3348 - val_loss: 1.8846 - val_accuracy: 0.3363\n",
      "Epoch 38/100\n",
      "196/196 [==============================] - 1s 6ms/step - loss: 1.8825 - accuracy: 0.3375 - val_loss: 1.8803 - val_accuracy: 0.3394\n",
      "Epoch 39/100\n",
      "196/196 [==============================] - 1s 5ms/step - loss: 1.8789 - accuracy: 0.3387 - val_loss: 1.8765 - val_accuracy: 0.3407\n",
      "Epoch 40/100\n",
      "196/196 [==============================] - 1s 6ms/step - loss: 1.8754 - accuracy: 0.3393 - val_loss: 1.8728 - val_accuracy: 0.3407\n",
      "Epoch 41/100\n",
      "196/196 [==============================] - 1s 5ms/step - loss: 1.8720 - accuracy: 0.3415 - val_loss: 1.8697 - val_accuracy: 0.3412\n",
      "Epoch 42/100\n",
      "196/196 [==============================] - 1s 5ms/step - loss: 1.8687 - accuracy: 0.3425 - val_loss: 1.8672 - val_accuracy: 0.3381\n",
      "Epoch 43/100\n",
      "196/196 [==============================] - 1s 5ms/step - loss: 1.8655 - accuracy: 0.3439 - val_loss: 1.8637 - val_accuracy: 0.3435\n",
      "Epoch 44/100\n",
      "196/196 [==============================] - 1s 5ms/step - loss: 1.8624 - accuracy: 0.3454 - val_loss: 1.8604 - val_accuracy: 0.3442\n",
      "Epoch 45/100\n",
      "196/196 [==============================] - 1s 5ms/step - loss: 1.8592 - accuracy: 0.3453 - val_loss: 1.8572 - val_accuracy: 0.3467\n",
      "Epoch 46/100\n",
      "196/196 [==============================] - 1s 5ms/step - loss: 1.8561 - accuracy: 0.3472 - val_loss: 1.8541 - val_accuracy: 0.3460\n",
      "Epoch 47/100\n",
      "196/196 [==============================] - 1s 5ms/step - loss: 1.8532 - accuracy: 0.3482 - val_loss: 1.8515 - val_accuracy: 0.3488\n",
      "Epoch 48/100\n",
      "196/196 [==============================] - 1s 5ms/step - loss: 1.8503 - accuracy: 0.3495 - val_loss: 1.8493 - val_accuracy: 0.3482\n",
      "Epoch 49/100\n",
      "196/196 [==============================] - 1s 5ms/step - loss: 1.8474 - accuracy: 0.3501 - val_loss: 1.8463 - val_accuracy: 0.3501\n",
      "Epoch 50/100\n",
      "196/196 [==============================] - 1s 5ms/step - loss: 1.8446 - accuracy: 0.3511 - val_loss: 1.8430 - val_accuracy: 0.3499\n",
      "Epoch 51/100\n",
      "196/196 [==============================] - 1s 5ms/step - loss: 1.8418 - accuracy: 0.3528 - val_loss: 1.8406 - val_accuracy: 0.3534\n",
      "Epoch 52/100\n",
      "196/196 [==============================] - 1s 5ms/step - loss: 1.8391 - accuracy: 0.3532 - val_loss: 1.8376 - val_accuracy: 0.3537\n",
      "Epoch 53/100\n",
      "196/196 [==============================] - 1s 5ms/step - loss: 1.8364 - accuracy: 0.3538 - val_loss: 1.8346 - val_accuracy: 0.3539\n",
      "Epoch 54/100\n",
      "196/196 [==============================] - 1s 5ms/step - loss: 1.8336 - accuracy: 0.3548 - val_loss: 1.8325 - val_accuracy: 0.3571\n",
      "Epoch 55/100\n",
      "196/196 [==============================] - 1s 5ms/step - loss: 1.8312 - accuracy: 0.3569 - val_loss: 1.8294 - val_accuracy: 0.3562\n",
      "Epoch 56/100\n",
      "196/196 [==============================] - 1s 5ms/step - loss: 1.8286 - accuracy: 0.3579 - val_loss: 1.8274 - val_accuracy: 0.3599\n",
      "Epoch 57/100\n",
      "196/196 [==============================] - 1s 5ms/step - loss: 1.8261 - accuracy: 0.3594 - val_loss: 1.8250 - val_accuracy: 0.3552\n",
      "Epoch 58/100\n",
      "196/196 [==============================] - 1s 5ms/step - loss: 1.8236 - accuracy: 0.3593 - val_loss: 1.8218 - val_accuracy: 0.3595\n",
      "Epoch 59/100\n",
      "196/196 [==============================] - 1s 5ms/step - loss: 1.8211 - accuracy: 0.3597 - val_loss: 1.8197 - val_accuracy: 0.3621\n",
      "Epoch 60/100\n",
      "196/196 [==============================] - 1s 5ms/step - loss: 1.8187 - accuracy: 0.3608 - val_loss: 1.8170 - val_accuracy: 0.3595\n",
      "Epoch 61/100\n",
      "196/196 [==============================] - 1s 5ms/step - loss: 1.8163 - accuracy: 0.3613 - val_loss: 1.8148 - val_accuracy: 0.3621\n",
      "Epoch 62/100\n",
      "196/196 [==============================] - 1s 5ms/step - loss: 1.8138 - accuracy: 0.3625 - val_loss: 1.8125 - val_accuracy: 0.3627\n",
      "Epoch 63/100\n",
      "196/196 [==============================] - 1s 5ms/step - loss: 1.8115 - accuracy: 0.3645 - val_loss: 1.8103 - val_accuracy: 0.3623\n",
      "Epoch 64/100\n",
      "196/196 [==============================] - 1s 5ms/step - loss: 1.8092 - accuracy: 0.3641 - val_loss: 1.8078 - val_accuracy: 0.3633\n",
      "Epoch 65/100\n",
      "196/196 [==============================] - 1s 5ms/step - loss: 1.8070 - accuracy: 0.3653 - val_loss: 1.8057 - val_accuracy: 0.3645\n",
      "Epoch 66/100\n",
      "196/196 [==============================] - 1s 5ms/step - loss: 1.8048 - accuracy: 0.3664 - val_loss: 1.8040 - val_accuracy: 0.3633\n",
      "Epoch 67/100\n",
      "196/196 [==============================] - 1s 5ms/step - loss: 1.8028 - accuracy: 0.3658 - val_loss: 1.8010 - val_accuracy: 0.3676\n",
      "Epoch 68/100\n",
      "196/196 [==============================] - 1s 5ms/step - loss: 1.8008 - accuracy: 0.3667 - val_loss: 1.8000 - val_accuracy: 0.3656\n",
      "Epoch 69/100\n",
      "196/196 [==============================] - 1s 5ms/step - loss: 1.7985 - accuracy: 0.3675 - val_loss: 1.7971 - val_accuracy: 0.3637\n",
      "Epoch 70/100\n",
      "196/196 [==============================] - 1s 5ms/step - loss: 1.7964 - accuracy: 0.3680 - val_loss: 1.7967 - val_accuracy: 0.3715\n",
      "Epoch 71/100\n",
      "196/196 [==============================] - 1s 5ms/step - loss: 1.7943 - accuracy: 0.3702 - val_loss: 1.7932 - val_accuracy: 0.3725\n",
      "Epoch 72/100\n",
      "196/196 [==============================] - 1s 5ms/step - loss: 1.7924 - accuracy: 0.3695 - val_loss: 1.7911 - val_accuracy: 0.3719\n",
      "Epoch 73/100\n",
      "196/196 [==============================] - 1s 5ms/step - loss: 1.7903 - accuracy: 0.3712 - val_loss: 1.7889 - val_accuracy: 0.3729\n",
      "Epoch 74/100\n",
      "196/196 [==============================] - 1s 5ms/step - loss: 1.7882 - accuracy: 0.3705 - val_loss: 1.7873 - val_accuracy: 0.3744\n",
      "Epoch 75/100\n",
      "196/196 [==============================] - 1s 5ms/step - loss: 1.7865 - accuracy: 0.3726 - val_loss: 1.7846 - val_accuracy: 0.3723\n",
      "Epoch 76/100\n",
      "196/196 [==============================] - 1s 5ms/step - loss: 1.7844 - accuracy: 0.3731 - val_loss: 1.7826 - val_accuracy: 0.3734\n",
      "Epoch 77/100\n",
      "196/196 [==============================] - 1s 5ms/step - loss: 1.7825 - accuracy: 0.3739 - val_loss: 1.7817 - val_accuracy: 0.3760\n",
      "Epoch 78/100\n",
      "196/196 [==============================] - 1s 5ms/step - loss: 1.7806 - accuracy: 0.3743 - val_loss: 1.7790 - val_accuracy: 0.3759\n",
      "Epoch 79/100\n",
      "196/196 [==============================] - 1s 5ms/step - loss: 1.7787 - accuracy: 0.3743 - val_loss: 1.7779 - val_accuracy: 0.3781\n",
      "Epoch 80/100\n",
      "196/196 [==============================] - 1s 5ms/step - loss: 1.7771 - accuracy: 0.3751 - val_loss: 1.7750 - val_accuracy: 0.3788\n",
      "Epoch 81/100\n",
      "196/196 [==============================] - 1s 5ms/step - loss: 1.7751 - accuracy: 0.3767 - val_loss: 1.7740 - val_accuracy: 0.3770\n",
      "Epoch 82/100\n",
      "196/196 [==============================] - 1s 5ms/step - loss: 1.7733 - accuracy: 0.3768 - val_loss: 1.7724 - val_accuracy: 0.3780\n",
      "Epoch 83/100\n",
      "196/196 [==============================] - 1s 5ms/step - loss: 1.7716 - accuracy: 0.3774 - val_loss: 1.7698 - val_accuracy: 0.3779\n",
      "Epoch 84/100\n",
      "196/196 [==============================] - 1s 5ms/step - loss: 1.7698 - accuracy: 0.3788 - val_loss: 1.7689 - val_accuracy: 0.3806\n",
      "Epoch 85/100\n",
      "196/196 [==============================] - 1s 5ms/step - loss: 1.7681 - accuracy: 0.3795 - val_loss: 1.7671 - val_accuracy: 0.3804\n",
      "Epoch 86/100\n",
      "196/196 [==============================] - 1s 5ms/step - loss: 1.7664 - accuracy: 0.3799 - val_loss: 1.7664 - val_accuracy: 0.3841\n",
      "Epoch 87/100\n",
      "196/196 [==============================] - 1s 5ms/step - loss: 1.7645 - accuracy: 0.3810 - val_loss: 1.7632 - val_accuracy: 0.3836\n",
      "Epoch 88/100\n",
      "196/196 [==============================] - 1s 5ms/step - loss: 1.7628 - accuracy: 0.3809 - val_loss: 1.7621 - val_accuracy: 0.3830\n",
      "Epoch 89/100\n",
      "196/196 [==============================] - 1s 5ms/step - loss: 1.7611 - accuracy: 0.3813 - val_loss: 1.7597 - val_accuracy: 0.3830\n",
      "Epoch 90/100\n",
      "196/196 [==============================] - 1s 5ms/step - loss: 1.7594 - accuracy: 0.3821 - val_loss: 1.7584 - val_accuracy: 0.3833\n",
      "Epoch 91/100\n",
      "196/196 [==============================] - 1s 5ms/step - loss: 1.7577 - accuracy: 0.3820 - val_loss: 1.7565 - val_accuracy: 0.3822\n",
      "Epoch 92/100\n",
      "196/196 [==============================] - 1s 5ms/step - loss: 1.7561 - accuracy: 0.3837 - val_loss: 1.7557 - val_accuracy: 0.3844\n",
      "Epoch 93/100\n",
      "196/196 [==============================] - 1s 5ms/step - loss: 1.7545 - accuracy: 0.3843 - val_loss: 1.7535 - val_accuracy: 0.3848\n",
      "Epoch 94/100\n",
      "196/196 [==============================] - 1s 5ms/step - loss: 1.7530 - accuracy: 0.3842 - val_loss: 1.7514 - val_accuracy: 0.3872\n",
      "Epoch 95/100\n",
      "196/196 [==============================] - 1s 5ms/step - loss: 1.7511 - accuracy: 0.3840 - val_loss: 1.7503 - val_accuracy: 0.3873\n",
      "Epoch 96/100\n",
      "196/196 [==============================] - 1s 5ms/step - loss: 1.7498 - accuracy: 0.3855 - val_loss: 1.7489 - val_accuracy: 0.3833\n",
      "Epoch 97/100\n",
      "196/196 [==============================] - 1s 5ms/step - loss: 1.7477 - accuracy: 0.3863 - val_loss: 1.7470 - val_accuracy: 0.3889\n",
      "Epoch 98/100\n",
      "196/196 [==============================] - 1s 5ms/step - loss: 1.7463 - accuracy: 0.3867 - val_loss: 1.7450 - val_accuracy: 0.3895\n",
      "Epoch 99/100\n",
      "196/196 [==============================] - 1s 5ms/step - loss: 1.7446 - accuracy: 0.3866 - val_loss: 1.7432 - val_accuracy: 0.3917\n",
      "Epoch 100/100\n",
      "196/196 [==============================] - 1s 5ms/step - loss: 1.7430 - accuracy: 0.3865 - val_loss: 1.7419 - val_accuracy: 0.3898\n"
     ]
    }
   ],
   "source": [
    "# train the model using SGD\n",
    "print(\"[INFO] training network...\")\n",
    "sgd = SGD(0.01)\n",
    "model.compile(loss=\"categorical_crossentropy\", optimizer=sgd,\n",
    "metrics=[\"accuracy\"])\n",
    "H = model.fit(trainX, trainY, validation_data=(testX, testY),\n",
    "epochs=100, batch_size=256)"
   ]
  },
  {
   "cell_type": "code",
   "execution_count": 17,
   "id": "04ae104a",
   "metadata": {},
   "outputs": [
    {
     "name": "stdout",
     "output_type": "stream",
     "text": [
      "[INFO] evaluating network...\n",
      "57/79 [====================>.........] - ETA: 0s"
     ]
    },
    {
     "name": "stderr",
     "output_type": "stream",
     "text": [
      "2023-09-13 12:22:03.862180: W tensorflow/tsl/framework/cpu_allocator_impl.cc:83] Allocation of 122880000 exceeds 10% of free system memory.\n"
     ]
    },
    {
     "name": "stdout",
     "output_type": "stream",
     "text": [
      "79/79 [==============================] - 0s 2ms/step\n",
      "              precision    recall  f1-score   support\n",
      "\n",
      "           0       0.43      0.49      0.45      1000\n",
      "           1       0.43      0.47      0.45      1000\n",
      "           2       0.28      0.22      0.25      1000\n",
      "           3       0.27      0.23      0.25      1000\n",
      "           4       0.38      0.27      0.31      1000\n",
      "           5       0.33      0.37      0.35      1000\n",
      "           6       0.39      0.44      0.41      1000\n",
      "           7       0.41      0.41      0.41      1000\n",
      "           8       0.45      0.53      0.49      1000\n",
      "           9       0.46      0.48      0.47      1000\n",
      "\n",
      "    accuracy                           0.39     10000\n",
      "   macro avg       0.38      0.39      0.38     10000\n",
      "weighted avg       0.38      0.39      0.38     10000\n",
      "\n"
     ]
    }
   ],
   "source": [
    "print(\"[INFO] evaluating network...\")\n",
    "predictions = model.predict(testX, batch_size=128)\n",
    "print(classification_report(testY.argmax(axis=1),\n",
    "predictions.argmax(axis=1),\n",
    "target_names=[str(x) for x in lb.classes_]))"
   ]
  },
  {
   "cell_type": "code",
   "execution_count": 18,
   "id": "63ccfcf7",
   "metadata": {},
   "outputs": [
    {
     "data": {
      "image/png": "[encoded data removed]",
      "text/plain": [
       "<Figure size 432x288 with 1 Axes>"
      ]
     },
     "metadata": {
      "needs_background": "light"
     },
     "output_type": "display_data"
    }
   ],
   "source": [
    "plt.style.use(\"ggplot\")\n",
    "plt.figure()\n",
    "plt.plot(np.arange(0, 100), H.history[\"loss\"], label=\"train_loss\")\n",
    "plt.plot(np.arange(0, 100), H.history[\"val_loss\"], label=\"val_loss\")\n",
    "plt.plot(np.arange(0, 100), H.history[\"accuracy\"], label=\"train_acc\")\n",
    "plt.plot(np.arange(0, 100), H.history[\"val_accuracy\"], label=\"val_acc\")\n",
    "plt.title(\"Training Loss and Accuracy\")\n",
    "plt.xlabel(\"Epoch #\")\n",
    "plt.ylabel(\"Loss/Accuracy\")\n",
    "plt.legend()\n",
    "plt.savefig(\"output.jpg\")"
   ]
  }
 ],
 "metadata": {
  "kernelspec": {
   "display_name": "Python 3 (ipykernel)",
   "language": "python",
   "name": "python3"
  },
  "language_info": {
   "codemirror_mode": {
    "name": "ipython",
    "version": 3
   },
   "file_extension": ".py",
   "mimetype": "text/x-python",
   "name": "python",
   "nbconvert_exporter": "python",
   "pygments_lexer": "ipython3",
   "version": "3.10.6"
  }
 },
 "nbformat": 4,
 "nbformat_minor": 5
}
