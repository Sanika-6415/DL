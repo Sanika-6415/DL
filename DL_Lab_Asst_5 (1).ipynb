{
  "cells": [
    {
      "cell_type": "code",
      "execution_count": null,
      "id": "b051f48b",
      "metadata": {
        "id": "b051f48b"
      },
      "outputs": [],
      "source": [
        "import pandas as pd\n",
        "import numpy as np\n",
        "import collections\n",
        "import re"
      ]
    },
    {
      "cell_type": "code",
      "execution_count": null,
      "id": "9d4c5b52",
      "metadata": {
        "id": "9d4c5b52"
      },
      "outputs": [],
      "source": [
        "f=open(\"/content/t1.txt\")\n",
        "doc1=f.read()\n",
        "f.close()"
      ]
    },
    {
      "cell_type": "code",
      "execution_count": null,
      "id": "ca05e471",
      "metadata": {
        "id": "ca05e471",
        "outputId": "be209830-7b89-4797-b7ae-1375188323ba",
        "colab": {
          "base_uri": "https://localhost:8080/",
          "height": 53
        }
      },
      "outputs": [
        {
          "output_type": "execute_result",
          "data": {
            "text/plain": [
              "'Ram raced to the grocery store. Ram went inside but realized he forgot his wallet. Ram raced back home to grab it. Once Ram found it, Ram raced to the car again and drove back to the grocery store.'"
            ],
            "application/vnd.google.colaboratory.intrinsic+json": {
              "type": "string"
            }
          },
          "metadata": {},
          "execution_count": 3
        }
      ],
      "source": [
        "doc1"
      ]
    },
    {
      "cell_type": "code",
      "execution_count": null,
      "id": "83690756",
      "metadata": {
        "id": "83690756"
      },
      "outputs": [],
      "source": [
        "l_doc1 = re.sub(r\"[^a-zA-Z0-9]\", \" \", doc1.lower()).split()"
      ]
    },
    {
      "cell_type": "code",
      "execution_count": null,
      "id": "34315914",
      "metadata": {
        "id": "34315914",
        "outputId": "b7dff0df-536a-465d-d187-c3b795995d5d",
        "colab": {
          "base_uri": "https://localhost:8080/"
        }
      },
      "outputs": [
        {
          "output_type": "execute_result",
          "data": {
            "text/plain": [
              "['ram',\n",
              " 'raced',\n",
              " 'to',\n",
              " 'the',\n",
              " 'grocery',\n",
              " 'store',\n",
              " 'ram',\n",
              " 'went',\n",
              " 'inside',\n",
              " 'but',\n",
              " 'realized',\n",
              " 'he',\n",
              " 'forgot',\n",
              " 'his',\n",
              " 'wallet',\n",
              " 'ram',\n",
              " 'raced',\n",
              " 'back',\n",
              " 'home',\n",
              " 'to',\n",
              " 'grab',\n",
              " 'it',\n",
              " 'once',\n",
              " 'ram',\n",
              " 'found',\n",
              " 'it',\n",
              " 'ram',\n",
              " 'raced',\n",
              " 'to',\n",
              " 'the',\n",
              " 'car',\n",
              " 'again',\n",
              " 'and',\n",
              " 'drove',\n",
              " 'back',\n",
              " 'to',\n",
              " 'the',\n",
              " 'grocery',\n",
              " 'store']"
            ]
          },
          "metadata": {},
          "execution_count": 5
        }
      ],
      "source": [
        "\n",
        "l_doc1"
      ]
    },
    {
      "cell_type": "code",
      "execution_count": null,
      "id": "3670b227",
      "metadata": {
        "id": "3670b227"
      },
      "outputs": [],
      "source": [
        "l=l_doc1"
      ]
    },
    {
      "cell_type": "code",
      "execution_count": null,
      "id": "d07d96b7",
      "metadata": {
        "id": "d07d96b7",
        "outputId": "b7a56a65-e988-4013-a9c8-205a6b679e2d",
        "colab": {
          "base_uri": "https://localhost:8080/"
        }
      },
      "outputs": [
        {
          "output_type": "execute_result",
          "data": {
            "text/plain": [
              "['ram',\n",
              " 'raced',\n",
              " 'to',\n",
              " 'the',\n",
              " 'grocery',\n",
              " 'store',\n",
              " 'ram',\n",
              " 'went',\n",
              " 'inside',\n",
              " 'but',\n",
              " 'realized',\n",
              " 'he',\n",
              " 'forgot',\n",
              " 'his',\n",
              " 'wallet',\n",
              " 'ram',\n",
              " 'raced',\n",
              " 'back',\n",
              " 'home',\n",
              " 'to',\n",
              " 'grab',\n",
              " 'it',\n",
              " 'once',\n",
              " 'ram',\n",
              " 'found',\n",
              " 'it',\n",
              " 'ram',\n",
              " 'raced',\n",
              " 'to',\n",
              " 'the',\n",
              " 'car',\n",
              " 'again',\n",
              " 'and',\n",
              " 'drove',\n",
              " 'back',\n",
              " 'to',\n",
              " 'the',\n",
              " 'grocery',\n",
              " 'store']"
            ]
          },
          "metadata": {},
          "execution_count": 7
        }
      ],
      "source": [
        "l"
      ]
    },
    {
      "cell_type": "code",
      "execution_count": null,
      "id": "b7da8186",
      "metadata": {
        "id": "b7da8186"
      },
      "outputs": [],
      "source": [
        "wordset=set(l)"
      ]
    },
    {
      "cell_type": "code",
      "execution_count": null,
      "id": "3fe06ad1",
      "metadata": {
        "id": "3fe06ad1",
        "outputId": "485afc46-7c93-4a97-8933-009ed0541664",
        "colab": {
          "base_uri": "https://localhost:8080/"
        }
      },
      "outputs": [
        {
          "output_type": "execute_result",
          "data": {
            "text/plain": [
              "{'again',\n",
              " 'and',\n",
              " 'back',\n",
              " 'but',\n",
              " 'car',\n",
              " 'drove',\n",
              " 'forgot',\n",
              " 'found',\n",
              " 'grab',\n",
              " 'grocery',\n",
              " 'he',\n",
              " 'his',\n",
              " 'home',\n",
              " 'inside',\n",
              " 'it',\n",
              " 'once',\n",
              " 'raced',\n",
              " 'ram',\n",
              " 'realized',\n",
              " 'store',\n",
              " 'the',\n",
              " 'to',\n",
              " 'wallet',\n",
              " 'went'}"
            ]
          },
          "metadata": {},
          "execution_count": 9
        }
      ],
      "source": [
        "wordset"
      ]
    },
    {
      "cell_type": "code",
      "execution_count": null,
      "id": "270262a1",
      "metadata": {
        "id": "270262a1"
      },
      "outputs": [],
      "source": [
        "def calculateBOW(wordset,l_doc):\n",
        "  tf_diz = dict.fromkeys(wordset,0)\n",
        "  for word in l_doc:\n",
        "      tf_diz[word]=l_doc.count(word)\n",
        "  return tf_diz"
      ]
    },
    {
      "cell_type": "code",
      "execution_count": null,
      "id": "5b9de5b8",
      "metadata": {
        "id": "5b9de5b8",
        "outputId": "c6b8c626-f282-47be-a67d-0e3f5c8fa0c4",
        "colab": {
          "base_uri": "https://localhost:8080/",
          "height": 110
        }
      },
      "outputs": [
        {
          "output_type": "execute_result",
          "data": {
            "text/plain": [
              "   grab  forgot  back  once  grocery  found  home  store  but  wallet  ...  \\\n",
              "0     1       1     2     1        2      1     1      2    1       1  ...   \n",
              "\n",
              "   to  again  and  went  realized  it  raced  his  he  drove  \n",
              "0   4      1    1     1         1   2      3    1   1      1  \n",
              "\n",
              "[1 rows x 24 columns]"
            ],
            "text/html": [
              "\n",
              "  <div id=\"df-e64d6e6b-1272-4f3b-809e-e845111a4a3c\" class=\"colab-df-container\">\n",
              "    <div>\n",
              "<style scoped>\n",
              "    .dataframe tbody tr th:only-of-type {\n",
              "        vertical-align: middle;\n",
              "    }\n",
              "\n",
              "    .dataframe tbody tr th {\n",
              "        vertical-align: top;\n",
              "    }\n",
              "\n",
              "    .dataframe thead th {\n",
              "        text-align: right;\n",
              "    }\n",
              "</style>\n",
              "<table border=\"1\" class=\"dataframe\">\n",
              "  <thead>\n",
              "    <tr style=\"text-align: right;\">\n",
              "      <th></th>\n",
              "      <th>grab</th>\n",
              "      <th>forgot</th>\n",
              "      <th>back</th>\n",
              "      <th>once</th>\n",
              "      <th>grocery</th>\n",
              "      <th>found</th>\n",
              "      <th>home</th>\n",
              "      <th>store</th>\n",
              "      <th>but</th>\n",
              "      <th>wallet</th>\n",
              "      <th>...</th>\n",
              "      <th>to</th>\n",
              "      <th>again</th>\n",
              "      <th>and</th>\n",
              "      <th>went</th>\n",
              "      <th>realized</th>\n",
              "      <th>it</th>\n",
              "      <th>raced</th>\n",
              "      <th>his</th>\n",
              "      <th>he</th>\n",
              "      <th>drove</th>\n",
              "    </tr>\n",
              "  </thead>\n",
              "  <tbody>\n",
              "    <tr>\n",
              "      <th>0</th>\n",
              "      <td>1</td>\n",
              "      <td>1</td>\n",
              "      <td>2</td>\n",
              "      <td>1</td>\n",
              "      <td>2</td>\n",
              "      <td>1</td>\n",
              "      <td>1</td>\n",
              "      <td>2</td>\n",
              "      <td>1</td>\n",
              "      <td>1</td>\n",
              "      <td>...</td>\n",
              "      <td>4</td>\n",
              "      <td>1</td>\n",
              "      <td>1</td>\n",
              "      <td>1</td>\n",
              "      <td>1</td>\n",
              "      <td>2</td>\n",
              "      <td>3</td>\n",
              "      <td>1</td>\n",
              "      <td>1</td>\n",
              "      <td>1</td>\n",
              "    </tr>\n",
              "  </tbody>\n",
              "</table>\n",
              "<p>1 rows × 24 columns</p>\n",
              "</div>\n",
              "    <div class=\"colab-df-buttons\">\n",
              "\n",
              "  <div class=\"colab-df-container\">\n",
              "    <button class=\"colab-df-convert\" onclick=\"convertToInteractive('df-e64d6e6b-1272-4f3b-809e-e845111a4a3c')\"\n",
              "            title=\"Convert this dataframe to an interactive table.\"\n",
              "            style=\"display:none;\">\n",
              "\n",
              "  <svg xmlns=\"http://www.w3.org/2000/svg\" height=\"24px\" viewBox=\"0 -960 960 960\">\n",
              "    <path d=\"M120-120v-720h720v720H120Zm60-500h600v-160H180v160Zm220 220h160v-160H400v160Zm0 220h160v-160H400v160ZM180-400h160v-160H180v160Zm440 0h160v-160H620v160ZM180-180h160v-160H180v160Zm440 0h160v-160H620v160Z\"/>\n",
              "  </svg>\n",
              "    </button>\n",
              "\n",
              "  <style>\n",
              "    .colab-df-container {\n",
              "      display:flex;\n",
              "      gap: 12px;\n",
              "    }\n",
              "\n",
              "    .colab-df-convert {\n",
              "      background-color: #E8F0FE;\n",
              "      border: none;\n",
              "      border-radius: 50%;\n",
              "      cursor: pointer;\n",
              "      display: none;\n",
              "      fill: #1967D2;\n",
              "      height: 32px;\n",
              "      padding: 0 0 0 0;\n",
              "      width: 32px;\n",
              "    }\n",
              "\n",
              "    .colab-df-convert:hover {\n",
              "      background-color: #E2EBFA;\n",
              "      box-shadow: 0px 1px 2px rgba(60, 64, 67, 0.3), 0px 1px 3px 1px rgba(60, 64, 67, 0.15);\n",
              "      fill: #174EA6;\n",
              "    }\n",
              "\n",
              "    .colab-df-buttons div {\n",
              "      margin-bottom: 4px;\n",
              "    }\n",
              "\n",
              "    [theme=dark] .colab-df-convert {\n",
              "      background-color: #3B4455;\n",
              "      fill: #D2E3FC;\n",
              "    }\n",
              "\n",
              "    [theme=dark] .colab-df-convert:hover {\n",
              "      background-color: #434B5C;\n",
              "      box-shadow: 0px 1px 3px 1px rgba(0, 0, 0, 0.15);\n",
              "      filter: drop-shadow(0px 1px 2px rgba(0, 0, 0, 0.3));\n",
              "      fill: #FFFFFF;\n",
              "    }\n",
              "  </style>\n",
              "\n",
              "    <script>\n",
              "      const buttonEl =\n",
              "        document.querySelector('#df-e64d6e6b-1272-4f3b-809e-e845111a4a3c button.colab-df-convert');\n",
              "      buttonEl.style.display =\n",
              "        google.colab.kernel.accessAllowed ? 'block' : 'none';\n",
              "\n",
              "      async function convertToInteractive(key) {\n",
              "        const element = document.querySelector('#df-e64d6e6b-1272-4f3b-809e-e845111a4a3c');\n",
              "        const dataTable =\n",
              "          await google.colab.kernel.invokeFunction('convertToInteractive',\n",
              "                                                    [key], {});\n",
              "        if (!dataTable) return;\n",
              "\n",
              "        const docLinkHtml = 'Like what you see? Visit the ' +\n",
              "          '<a target=\"_blank\" href=https://colab.research.google.com/notebooks/data_table.ipynb>data table notebook</a>'\n",
              "          + ' to learn more about interactive tables.';\n",
              "        element.innerHTML = '';\n",
              "        dataTable['output_type'] = 'display_data';\n",
              "        await google.colab.output.renderOutput(dataTable, element);\n",
              "        const docLink = document.createElement('div');\n",
              "        docLink.innerHTML = docLinkHtml;\n",
              "        element.appendChild(docLink);\n",
              "      }\n",
              "    </script>\n",
              "  </div>\n",
              "\n",
              "    </div>\n",
              "  </div>\n"
            ]
          },
          "metadata": {},
          "execution_count": 11
        }
      ],
      "source": [
        "bow1 = calculateBOW(wordset,l_doc1)\n",
        "df_bow = pd.DataFrame([bow1])\n",
        "df_bow.head()"
      ]
    },
    {
      "cell_type": "code",
      "execution_count": null,
      "id": "4b9607a9",
      "metadata": {
        "id": "4b9607a9"
      },
      "outputs": [],
      "source": [
        "from sklearn.feature_extraction.text import CountVectorizer\n",
        "vectorizer = CountVectorizer()"
      ]
    },
    {
      "cell_type": "code",
      "execution_count": null,
      "id": "83478fe7",
      "metadata": {
        "id": "83478fe7",
        "outputId": "286cf870-7cc7-456d-e41f-73021bf6e0a0",
        "colab": {
          "base_uri": "https://localhost:8080/",
          "height": 110
        }
      },
      "outputs": [
        {
          "output_type": "execute_result",
          "data": {
            "text/plain": [
              "   again  and  back  but  car  drove  forgot  found  grab  grocery  ...  it  \\\n",
              "0      1    1     2    1    1      1       1      1     1        2  ...   2   \n",
              "\n",
              "   once  raced  ram  realized  store  the  to  wallet  went  \n",
              "0     1      3    5         1      2    3   4       1     1  \n",
              "\n",
              "[1 rows x 24 columns]"
            ],
            "text/html": [
              "\n",
              "  <div id=\"df-904c3a55-f360-4270-b97f-59c0cc4921d2\" class=\"colab-df-container\">\n",
              "    <div>\n",
              "<style scoped>\n",
              "    .dataframe tbody tr th:only-of-type {\n",
              "        vertical-align: middle;\n",
              "    }\n",
              "\n",
              "    .dataframe tbody tr th {\n",
              "        vertical-align: top;\n",
              "    }\n",
              "\n",
              "    .dataframe thead th {\n",
              "        text-align: right;\n",
              "    }\n",
              "</style>\n",
              "<table border=\"1\" class=\"dataframe\">\n",
              "  <thead>\n",
              "    <tr style=\"text-align: right;\">\n",
              "      <th></th>\n",
              "      <th>again</th>\n",
              "      <th>and</th>\n",
              "      <th>back</th>\n",
              "      <th>but</th>\n",
              "      <th>car</th>\n",
              "      <th>drove</th>\n",
              "      <th>forgot</th>\n",
              "      <th>found</th>\n",
              "      <th>grab</th>\n",
              "      <th>grocery</th>\n",
              "      <th>...</th>\n",
              "      <th>it</th>\n",
              "      <th>once</th>\n",
              "      <th>raced</th>\n",
              "      <th>ram</th>\n",
              "      <th>realized</th>\n",
              "      <th>store</th>\n",
              "      <th>the</th>\n",
              "      <th>to</th>\n",
              "      <th>wallet</th>\n",
              "      <th>went</th>\n",
              "    </tr>\n",
              "  </thead>\n",
              "  <tbody>\n",
              "    <tr>\n",
              "      <th>0</th>\n",
              "      <td>1</td>\n",
              "      <td>1</td>\n",
              "      <td>2</td>\n",
              "      <td>1</td>\n",
              "      <td>1</td>\n",
              "      <td>1</td>\n",
              "      <td>1</td>\n",
              "      <td>1</td>\n",
              "      <td>1</td>\n",
              "      <td>2</td>\n",
              "      <td>...</td>\n",
              "      <td>2</td>\n",
              "      <td>1</td>\n",
              "      <td>3</td>\n",
              "      <td>5</td>\n",
              "      <td>1</td>\n",
              "      <td>2</td>\n",
              "      <td>3</td>\n",
              "      <td>4</td>\n",
              "      <td>1</td>\n",
              "      <td>1</td>\n",
              "    </tr>\n",
              "  </tbody>\n",
              "</table>\n",
              "<p>1 rows × 24 columns</p>\n",
              "</div>\n",
              "    <div class=\"colab-df-buttons\">\n",
              "\n",
              "  <div class=\"colab-df-container\">\n",
              "    <button class=\"colab-df-convert\" onclick=\"convertToInteractive('df-904c3a55-f360-4270-b97f-59c0cc4921d2')\"\n",
              "            title=\"Convert this dataframe to an interactive table.\"\n",
              "            style=\"display:none;\">\n",
              "\n",
              "  <svg xmlns=\"http://www.w3.org/2000/svg\" height=\"24px\" viewBox=\"0 -960 960 960\">\n",
              "    <path d=\"M120-120v-720h720v720H120Zm60-500h600v-160H180v160Zm220 220h160v-160H400v160Zm0 220h160v-160H400v160ZM180-400h160v-160H180v160Zm440 0h160v-160H620v160ZM180-180h160v-160H180v160Zm440 0h160v-160H620v160Z\"/>\n",
              "  </svg>\n",
              "    </button>\n",
              "\n",
              "  <style>\n",
              "    .colab-df-container {\n",
              "      display:flex;\n",
              "      gap: 12px;\n",
              "    }\n",
              "\n",
              "    .colab-df-convert {\n",
              "      background-color: #E8F0FE;\n",
              "      border: none;\n",
              "      border-radius: 50%;\n",
              "      cursor: pointer;\n",
              "      display: none;\n",
              "      fill: #1967D2;\n",
              "      height: 32px;\n",
              "      padding: 0 0 0 0;\n",
              "      width: 32px;\n",
              "    }\n",
              "\n",
              "    .colab-df-convert:hover {\n",
              "      background-color: #E2EBFA;\n",
              "      box-shadow: 0px 1px 2px rgba(60, 64, 67, 0.3), 0px 1px 3px 1px rgba(60, 64, 67, 0.15);\n",
              "      fill: #174EA6;\n",
              "    }\n",
              "\n",
              "    .colab-df-buttons div {\n",
              "      margin-bottom: 4px;\n",
              "    }\n",
              "\n",
              "    [theme=dark] .colab-df-convert {\n",
              "      background-color: #3B4455;\n",
              "      fill: #D2E3FC;\n",
              "    }\n",
              "\n",
              "    [theme=dark] .colab-df-convert:hover {\n",
              "      background-color: #434B5C;\n",
              "      box-shadow: 0px 1px 3px 1px rgba(0, 0, 0, 0.15);\n",
              "      filter: drop-shadow(0px 1px 2px rgba(0, 0, 0, 0.3));\n",
              "      fill: #FFFFFF;\n",
              "    }\n",
              "  </style>\n",
              "\n",
              "    <script>\n",
              "      const buttonEl =\n",
              "        document.querySelector('#df-904c3a55-f360-4270-b97f-59c0cc4921d2 button.colab-df-convert');\n",
              "      buttonEl.style.display =\n",
              "        google.colab.kernel.accessAllowed ? 'block' : 'none';\n",
              "\n",
              "      async function convertToInteractive(key) {\n",
              "        const element = document.querySelector('#df-904c3a55-f360-4270-b97f-59c0cc4921d2');\n",
              "        const dataTable =\n",
              "          await google.colab.kernel.invokeFunction('convertToInteractive',\n",
              "                                                    [key], {});\n",
              "        if (!dataTable) return;\n",
              "\n",
              "        const docLinkHtml = 'Like what you see? Visit the ' +\n",
              "          '<a target=\"_blank\" href=https://colab.research.google.com/notebooks/data_table.ipynb>data table notebook</a>'\n",
              "          + ' to learn more about interactive tables.';\n",
              "        element.innerHTML = '';\n",
              "        dataTable['output_type'] = 'display_data';\n",
              "        await google.colab.output.renderOutput(dataTable, element);\n",
              "        const docLink = document.createElement('div');\n",
              "        docLink.innerHTML = docLinkHtml;\n",
              "        element.appendChild(docLink);\n",
              "      }\n",
              "    </script>\n",
              "  </div>\n",
              "\n",
              "    </div>\n",
              "  </div>\n"
            ]
          },
          "metadata": {},
          "execution_count": 13
        }
      ],
      "source": [
        "X = vectorizer.fit_transform([doc1])\n",
        "df_bow_sklearn = pd.DataFrame(X.toarray(),columns=vectorizer.get_feature_names_out())\n",
        "df_bow_sklearn.head()"
      ]
    },
    {
      "cell_type": "code",
      "execution_count": null,
      "id": "e486eeff",
      "metadata": {
        "id": "e486eeff",
        "outputId": "c44cc006-c4ae-4b75-c248-d04c428ae921",
        "colab": {
          "base_uri": "https://localhost:8080/"
        }
      },
      "outputs": [
        {
          "output_type": "stream",
          "name": "stdout",
          "text": [
            "['again' 'and' 'back' 'but' 'car' 'drove' 'forgot' 'found' 'grab'\n",
            " 'grocery' 'he' 'his' 'home' 'inside' 'it' 'once' 'raced' 'ram' 'realized'\n",
            " 'store' 'the' 'to' 'wallet' 'went']\n"
          ]
        }
      ],
      "source": [
        "print(vectorizer.get_feature_names_out())"
      ]
    },
    {
      "cell_type": "code",
      "execution_count": null,
      "id": "509a4989",
      "metadata": {
        "id": "509a4989",
        "outputId": "229e3d52-99ec-414b-b786-b27748c6aca3",
        "colab": {
          "base_uri": "https://localhost:8080/"
        }
      },
      "outputs": [
        {
          "output_type": "stream",
          "name": "stderr",
          "text": [
            "[nltk_data] Downloading package punkt to /root/nltk_data...\n",
            "[nltk_data]   Package punkt is already up-to-date!\n"
          ]
        }
      ],
      "source": [
        "import nltk\n",
        "nltk.download('punkt')\n",
        "import re\n",
        "import numpy as np\n",
        "\n",
        "f= open(\"/content/t1.txt\")\n",
        "text=f.read()\n",
        "f.close()\n",
        "dataset = nltk.sent_tokenize(text)\n",
        "for i in range(len(dataset)):\n",
        "    dataset[i] = dataset[i].lower()\n",
        "    dataset[i] = re.sub(r'\\W', ' ', dataset[i])\n",
        "    dataset[i] = re.sub(r'\\s+', ' ', dataset[i])"
      ]
    },
    {
      "cell_type": "code",
      "execution_count": null,
      "id": "298ffbed",
      "metadata": {
        "id": "298ffbed",
        "outputId": "4bcaac93-8fb5-4a59-f6f2-a42c9e7ffe55",
        "colab": {
          "base_uri": "https://localhost:8080/"
        }
      },
      "outputs": [
        {
          "output_type": "stream",
          "name": "stdout",
          "text": [
            "['ram raced to the grocery store ', 'ram went inside but realized he forgot his wallet ', 'ram raced back home to grab it ', 'once ram found it ram raced to the car again and drove back to the grocery store ']\n"
          ]
        }
      ],
      "source": [
        "print(dataset)"
      ]
    },
    {
      "cell_type": "code",
      "execution_count": null,
      "id": "9455f5b4",
      "metadata": {
        "id": "9455f5b4"
      },
      "outputs": [],
      "source": [
        "word2count = {}\n",
        "for data in dataset:\n",
        "    words = nltk.word_tokenize(data)\n",
        "    for word in words:\n",
        "        if word not in word2count.keys():\n",
        "            word2count[word] = 1\n",
        "        else:\n",
        "            word2count[word] += 1"
      ]
    },
    {
      "cell_type": "code",
      "execution_count": null,
      "id": "eabfb0cc",
      "metadata": {
        "id": "eabfb0cc",
        "outputId": "5291dd39-438f-490c-cdf2-38399c928de2",
        "colab": {
          "base_uri": "https://localhost:8080/"
        }
      },
      "outputs": [
        {
          "output_type": "execute_result",
          "data": {
            "text/plain": [
              "{'ram': 5,\n",
              " 'raced': 3,\n",
              " 'to': 4,\n",
              " 'the': 3,\n",
              " 'grocery': 2,\n",
              " 'store': 2,\n",
              " 'went': 1,\n",
              " 'inside': 1,\n",
              " 'but': 1,\n",
              " 'realized': 1,\n",
              " 'he': 1,\n",
              " 'forgot': 1,\n",
              " 'his': 1,\n",
              " 'wallet': 1,\n",
              " 'back': 2,\n",
              " 'home': 1,\n",
              " 'grab': 1,\n",
              " 'it': 2,\n",
              " 'once': 1,\n",
              " 'found': 1,\n",
              " 'car': 1,\n",
              " 'again': 1,\n",
              " 'and': 1,\n",
              " 'drove': 1}"
            ]
          },
          "metadata": {},
          "execution_count": 18
        }
      ],
      "source": [
        "word2count"
      ]
    },
    {
      "cell_type": "code",
      "execution_count": null,
      "id": "82c41af9",
      "metadata": {
        "id": "82c41af9",
        "outputId": "09d74176-eff3-44f9-cc83-402268b7bea2",
        "colab": {
          "base_uri": "https://localhost:8080/"
        }
      },
      "outputs": [
        {
          "output_type": "execute_result",
          "data": {
            "text/plain": [
              "['once',\n",
              " 'ram',\n",
              " 'found',\n",
              " 'it',\n",
              " 'ram',\n",
              " 'raced',\n",
              " 'to',\n",
              " 'the',\n",
              " 'car',\n",
              " 'again',\n",
              " 'and',\n",
              " 'drove',\n",
              " 'back',\n",
              " 'to',\n",
              " 'the',\n",
              " 'grocery',\n",
              " 'store']"
            ]
          },
          "metadata": {},
          "execution_count": 19
        }
      ],
      "source": [
        "words"
      ]
    },
    {
      "cell_type": "code",
      "execution_count": null,
      "id": "c00c6e33",
      "metadata": {
        "id": "c00c6e33",
        "outputId": "1b69165c-bd46-4763-e067-ebaca22ddecc",
        "colab": {
          "base_uri": "https://localhost:8080/"
        }
      },
      "outputs": [
        {
          "output_type": "execute_result",
          "data": {
            "text/plain": [
              "17"
            ]
          },
          "metadata": {},
          "execution_count": 20
        }
      ],
      "source": [
        "len(words)"
      ]
    },
    {
      "cell_type": "code",
      "execution_count": null,
      "id": "d902df29",
      "metadata": {
        "id": "d902df29"
      },
      "outputs": [],
      "source": [
        "vocab_size = len(wordset)\n",
        "embed_dim = 10\n",
        "context_size = 4"
      ]
    },
    {
      "cell_type": "code",
      "execution_count": null,
      "id": "1d2baf67",
      "metadata": {
        "id": "1d2baf67"
      },
      "outputs": [],
      "source": [
        "word_to_ix = {word: i for i, word in enumerate(wordset)}\n",
        "ix_to_word = {i: word for i, word in enumerate(wordset)}"
      ]
    },
    {
      "cell_type": "code",
      "execution_count": null,
      "id": "f7c3a477",
      "metadata": {
        "id": "f7c3a477",
        "outputId": "0541fd5a-447f-41c1-acd1-625528e46b53",
        "colab": {
          "base_uri": "https://localhost:8080/"
        }
      },
      "outputs": [
        {
          "output_type": "execute_result",
          "data": {
            "text/plain": [
              "{'grab': 0,\n",
              " 'forgot': 1,\n",
              " 'back': 2,\n",
              " 'once': 3,\n",
              " 'grocery': 4,\n",
              " 'found': 5,\n",
              " 'home': 6,\n",
              " 'store': 7,\n",
              " 'but': 8,\n",
              " 'wallet': 9,\n",
              " 'car': 10,\n",
              " 'inside': 11,\n",
              " 'the': 12,\n",
              " 'ram': 13,\n",
              " 'to': 14,\n",
              " 'again': 15,\n",
              " 'and': 16,\n",
              " 'went': 17,\n",
              " 'realized': 18,\n",
              " 'it': 19,\n",
              " 'raced': 20,\n",
              " 'his': 21,\n",
              " 'he': 22,\n",
              " 'drove': 23}"
            ]
          },
          "metadata": {},
          "execution_count": 23
        }
      ],
      "source": [
        "word_to_ix"
      ]
    },
    {
      "cell_type": "code",
      "execution_count": null,
      "id": "17e9f7e9",
      "metadata": {
        "id": "17e9f7e9",
        "outputId": "eab4fc90-d693-4b6e-d48d-8da35aee35d3",
        "colab": {
          "base_uri": "https://localhost:8080/"
        }
      },
      "outputs": [
        {
          "output_type": "execute_result",
          "data": {
            "text/plain": [
              "{0: 'grab',\n",
              " 1: 'forgot',\n",
              " 2: 'back',\n",
              " 3: 'once',\n",
              " 4: 'grocery',\n",
              " 5: 'found',\n",
              " 6: 'home',\n",
              " 7: 'store',\n",
              " 8: 'but',\n",
              " 9: 'wallet',\n",
              " 10: 'car',\n",
              " 11: 'inside',\n",
              " 12: 'the',\n",
              " 13: 'ram',\n",
              " 14: 'to',\n",
              " 15: 'again',\n",
              " 16: 'and',\n",
              " 17: 'went',\n",
              " 18: 'realized',\n",
              " 19: 'it',\n",
              " 20: 'raced',\n",
              " 21: 'his',\n",
              " 22: 'he',\n",
              " 23: 'drove'}"
            ]
          },
          "metadata": {},
          "execution_count": 24
        }
      ],
      "source": [
        "ix_to_word"
      ]
    },
    {
      "cell_type": "code",
      "execution_count": null,
      "id": "bcd8c11d",
      "metadata": {
        "id": "bcd8c11d",
        "outputId": "032736ed-944c-4530-c9d4-176da890ba52",
        "colab": {
          "base_uri": "https://localhost:8080/"
        }
      },
      "outputs": [
        {
          "output_type": "stream",
          "name": "stdout",
          "text": [
            "[(['once', 'ram', 'it', 'ram'], 'found'), (['ram', 'found', 'ram', 'raced'], 'it'), (['found', 'it', 'raced', 'to'], 'ram'), (['it', 'ram', 'to', 'the'], 'raced'), (['ram', 'raced', 'the', 'car'], 'to')]\n"
          ]
        }
      ],
      "source": [
        "data = []\n",
        "for i in range(2, len(words) - 2):\n",
        "    context = [words[i - 2], words[i - 1], words[i + 1], words[i + 2]]\n",
        "    target = words[i]\n",
        "    data.append((context, target))\n",
        "print(data[:5])"
      ]
    },
    {
      "cell_type": "code",
      "execution_count": null,
      "id": "c5db665f",
      "metadata": {
        "id": "c5db665f"
      },
      "outputs": [],
      "source": [
        "embeddings =  np.random.random_sample((vocab_size, embed_dim))"
      ]
    },
    {
      "cell_type": "code",
      "execution_count": null,
      "id": "50435d07",
      "metadata": {
        "id": "50435d07",
        "outputId": "66d89c37-de7d-4ec8-8f27-f826a4c53ae7",
        "colab": {
          "base_uri": "https://localhost:8080/"
        }
      },
      "outputs": [
        {
          "output_type": "execute_result",
          "data": {
            "text/plain": [
              "array([[0.44619563, 0.25702298, 0.7518889 , 0.73853142, 0.57449211,\n",
              "        0.30262447, 0.92523433, 0.38430385, 0.4562259 , 0.75882258],\n",
              "       [0.52011513, 0.7730353 , 0.36422371, 0.47108297, 0.05824687,\n",
              "        0.43890918, 0.42171732, 0.44300873, 0.60486869, 0.93904089],\n",
              "       [0.45100347, 0.53229724, 0.45374736, 0.09665696, 0.64853423,\n",
              "        0.63109602, 0.71956318, 0.14929909, 0.33765372, 0.86861381],\n",
              "       [0.59124721, 0.59263217, 0.73436609, 0.14570862, 0.34798821,\n",
              "        0.31051236, 0.88409035, 0.98616619, 0.49003688, 0.46411356],\n",
              "       [0.41437672, 0.89490502, 0.22041231, 0.45718606, 0.95413923,\n",
              "        0.83846712, 0.36267988, 0.88901859, 0.5096098 , 0.34734505],\n",
              "       [0.96534183, 0.45169581, 0.65292208, 0.18797838, 0.14906916,\n",
              "        0.73109873, 0.20059192, 0.19416452, 0.82101352, 0.54894649],\n",
              "       [0.96356839, 0.47852012, 0.93640607, 0.14485411, 0.75934024,\n",
              "        0.37459702, 0.6565173 , 0.11547805, 0.44173435, 0.16985169],\n",
              "       [0.23825436, 0.50297833, 0.45098152, 0.23713531, 0.81460485,\n",
              "        0.34561123, 0.83485963, 0.7564537 , 0.4333513 , 0.64257242],\n",
              "       [0.74031561, 0.43931661, 0.68054216, 0.47952197, 0.17599287,\n",
              "        0.68978054, 0.64852779, 0.92518552, 0.11224424, 0.37659268],\n",
              "       [0.46263426, 0.58980843, 0.4554626 , 0.18816074, 0.67859148,\n",
              "        0.48600932, 0.82669461, 0.87522279, 0.36579631, 0.0376356 ],\n",
              "       [0.31205298, 0.20633113, 0.94720568, 0.7695564 , 0.20527688,\n",
              "        0.11229255, 0.17642284, 0.7373097 , 0.54998012, 0.01505024],\n",
              "       [0.57028249, 0.73244989, 0.47772479, 0.69906242, 0.49655278,\n",
              "        0.01509625, 0.86876073, 0.37406779, 0.60449393, 0.67610544],\n",
              "       [0.42814752, 0.99692868, 0.15282719, 0.29760397, 0.05812538,\n",
              "        0.69828524, 0.27105112, 0.77670222, 0.50473681, 0.69782225],\n",
              "       [0.0020591 , 0.30014897, 0.58627841, 0.20217407, 0.22696359,\n",
              "        0.00232041, 0.53828606, 0.89238554, 0.2325952 , 0.74327745],\n",
              "       [0.02624089, 0.84492391, 0.16906366, 0.40076313, 0.12830342,\n",
              "        0.35736856, 0.43311182, 0.68225284, 0.12135127, 0.16973905],\n",
              "       [0.3862919 , 0.40839397, 0.98464128, 0.50631648, 0.01795265,\n",
              "        0.47647633, 0.69289079, 0.11628582, 0.6398843 , 0.13748846],\n",
              "       [0.64672849, 0.31351084, 0.47070746, 0.8031109 , 0.79682419,\n",
              "        0.01449928, 0.1838197 , 0.6074353 , 0.58015147, 0.51500164],\n",
              "       [0.31017752, 0.73430395, 0.01421099, 0.0300171 , 0.40350006,\n",
              "        0.48564454, 0.97388568, 0.83534021, 0.83366876, 0.87521493],\n",
              "       [0.61438115, 0.45468773, 0.6582586 , 0.27425476, 0.79394284,\n",
              "        0.64227   , 0.97190338, 0.63587733, 0.13647462, 0.25905946],\n",
              "       [0.83140933, 0.66308629, 0.95699422, 0.15377122, 0.65865988,\n",
              "        0.06079501, 0.05908668, 0.14262918, 0.70838583, 0.27075892],\n",
              "       [0.16375743, 0.41747094, 0.308228  , 0.52027049, 0.11526933,\n",
              "        0.05313022, 0.10904407, 0.25745716, 0.74868685, 0.80799496],\n",
              "       [0.75023775, 0.12556828, 0.45224744, 0.29429752, 0.99436853,\n",
              "        0.11691266, 0.56728085, 0.01546555, 0.39780569, 0.45527147],\n",
              "       [0.83067649, 0.26993769, 0.73606826, 0.03811081, 0.69662855,\n",
              "        0.18700984, 0.77334426, 0.07335874, 0.84333739, 0.92604314],\n",
              "       [0.91798576, 0.40091081, 0.4954483 , 0.28913135, 0.63459297,\n",
              "        0.0391565 , 0.93199013, 0.28387055, 0.62856399, 0.81596679]])"
            ]
          },
          "metadata": {},
          "execution_count": 27
        }
      ],
      "source": [
        "embeddings"
      ]
    },
    {
      "cell_type": "code",
      "execution_count": null,
      "id": "b5f4b918",
      "metadata": {
        "id": "b5f4b918"
      },
      "outputs": [],
      "source": [
        "def linear(m, theta):\n",
        "    w = theta\n",
        "    return m.dot(w)"
      ]
    },
    {
      "cell_type": "code",
      "execution_count": null,
      "id": "f37e96cd",
      "metadata": {
        "id": "f37e96cd"
      },
      "outputs": [],
      "source": [
        "def log_softmax(x):\n",
        "    e_x = np.exp(x - np.max(x))\n",
        "    return np.log(e_x / e_x.sum())\n",
        "def NLLLoss(logs, targets):\n",
        "    out = logs[range(len(targets)), targets]\n",
        "    return -out.sum()/len(out)"
      ]
    },
    {
      "cell_type": "code",
      "execution_count": null,
      "id": "b68247dd",
      "metadata": {
        "id": "b68247dd"
      },
      "outputs": [],
      "source": [
        "import tensorflow as tf\n",
        "import keras.backend as k\n",
        "from keras.models import Sequential\n",
        "from keras.layers import Dense, Embedding, Lambda"
      ]
    },
    {
      "cell_type": "code",
      "execution_count": null,
      "id": "85b84445",
      "metadata": {
        "id": "85b84445"
      },
      "outputs": [],
      "source": [
        "def log_softmax_crossentropy_with_logits(logits,target):\n",
        "\n",
        "    out = np.zeros_like(logits)\n",
        "    out[np.arange(len(logits)),target] = 1\n",
        "\n",
        "    softmax = np.exp(logits) / np.exp(logits).sum(axis=-1,keepdims=True)\n",
        "\n",
        "    return (- out + softmax) / logits.shape[0]"
      ]
    },
    {
      "cell_type": "code",
      "execution_count": null,
      "id": "821ca3b1",
      "metadata": {
        "id": "821ca3b1"
      },
      "outputs": [],
      "source": [
        "def forward(context_idxs, theta):\n",
        "    m = embeddings[context_idxs].reshape(1, -1)\n",
        "    n = linear(m, theta)\n",
        "    o = log_softmax(n)\n",
        "\n",
        "    return m, n, o"
      ]
    },
    {
      "cell_type": "code",
      "execution_count": null,
      "id": "bc8a0957",
      "metadata": {
        "id": "bc8a0957"
      },
      "outputs": [],
      "source": [
        "def backward(preds, theta, target_idxs):\n",
        "    m, n, o = preds\n",
        "\n",
        "    dlog = log_softmax_crossentropy_with_logits(n, target_idxs)\n",
        "    dw = m.T.dot(dlog)\n",
        "\n",
        "    return dw"
      ]
    },
    {
      "cell_type": "code",
      "execution_count": null,
      "id": "da36e4f2",
      "metadata": {
        "id": "da36e4f2"
      },
      "outputs": [],
      "source": [
        "def optimize(theta, grad, lr=0.03):\n",
        "    theta -= grad * lr\n",
        "    return theta"
      ]
    },
    {
      "cell_type": "code",
      "execution_count": null,
      "id": "4bf069cc",
      "metadata": {
        "id": "4bf069cc"
      },
      "outputs": [],
      "source": [
        "theta = np.random.uniform(-1, 1, ( context_size * embed_dim, vocab_size))"
      ]
    },
    {
      "cell_type": "code",
      "execution_count": null,
      "id": "1a24acf7",
      "metadata": {
        "id": "1a24acf7"
      },
      "outputs": [],
      "source": [
        "epoch_losses = {}\n",
        "\n",
        "for epoch in range(80):\n",
        "\n",
        "    losses =  []\n",
        "\n",
        "    for context, target in data:\n",
        "        context_idxs = np.array([word_to_ix[w] for w in context])\n",
        "        preds = forward(context_idxs, theta)\n",
        "\n",
        "        target_idxs = np.array([word_to_ix[target]])\n",
        "        loss = NLLLoss(preds[-1], target_idxs)\n",
        "\n",
        "        losses.append(loss)\n",
        "\n",
        "        grad = backward(preds, theta, target_idxs)\n",
        "        theta = optimize(theta, grad, lr=0.03)\n",
        "\n",
        "        epoch_losses[epoch] = losses"
      ]
    },
    {
      "cell_type": "code",
      "execution_count": null,
      "id": "6ab62843",
      "metadata": {
        "id": "6ab62843",
        "outputId": "dac4c5a2-df88-4123-8405-2532a6745630",
        "colab": {
          "base_uri": "https://localhost:8080/",
          "height": 518
        }
      },
      "outputs": [
        {
          "output_type": "execute_result",
          "data": {
            "text/plain": [
              "Text(0, 0.5, 'Losses')"
            ]
          },
          "metadata": {},
          "execution_count": 37
        },
        {
          "output_type": "display_data",
          "data": {
            "text/plain": [
              "<Figure size 640x480 with 1 Axes>"
            ],
            "image/png": "[encoded data removed]"
          },
          "metadata": {}
        }
      ],
      "source": [
        "import matplotlib.pyplot as plt\n",
        "ix = np.arange(0,80)\n",
        "\n",
        "fig = plt.figure()\n",
        "fig.suptitle('Epoch/Losses', fontsize=20)\n",
        "plt.plot(ix,[epoch_losses[i][0] for i in ix])\n",
        "plt.xlabel('Epochs', fontsize=12)\n",
        "plt.ylabel('Losses', fontsize=12)"
      ]
    },
    {
      "cell_type": "code",
      "execution_count": null,
      "id": "9d3f08dd",
      "metadata": {
        "id": "9d3f08dd",
        "outputId": "ae7760c6-acc6-4706-f056-7660e222fef9",
        "colab": {
          "base_uri": "https://localhost:8080/",
          "height": 36
        }
      },
      "outputs": [
        {
          "output_type": "execute_result",
          "data": {
            "text/plain": [
              "'ram'"
            ],
            "application/vnd.google.colaboratory.intrinsic+json": {
              "type": "string"
            }
          },
          "metadata": {},
          "execution_count": 38
        }
      ],
      "source": [
        "def predict(words):\n",
        "    context_idxs = np.array([word_to_ix[w] for w in words])\n",
        "    preds = forward(context_idxs, theta)\n",
        "    word = ix_to_word[np.argmax(preds[-1])]\n",
        "    return word\n",
        "predict(['found', 'it', 'raced', 'to'])"
      ]
    },
    {
      "cell_type": "code",
      "execution_count": null,
      "id": "c9898b5c",
      "metadata": {
        "id": "c9898b5c",
        "outputId": "402d710a-7099-45d3-f48d-1e42136d2b96",
        "colab": {
          "base_uri": "https://localhost:8080/"
        }
      },
      "outputs": [
        {
          "output_type": "execute_result",
          "data": {
            "text/plain": [
              "1.0"
            ]
          },
          "metadata": {},
          "execution_count": 39
        }
      ],
      "source": [
        "def accuracy():\n",
        "    wrong = 0\n",
        "\n",
        "    for context, target in data:\n",
        "        if(predict(context) != target):\n",
        "            wrong += 1\n",
        "\n",
        "    return (1 - (wrong / len(data)))\n",
        "accuracy()"
      ]
    }
  ],
  "metadata": {
    "kernelspec": {
      "display_name": "Python 3 (ipykernel)",
      "language": "python",
      "name": "python3"
    },
    "language_info": {
      "codemirror_mode": {
        "name": "ipython",
        "version": 3
      },
      "file_extension": ".py",
      "mimetype": "text/x-python",
      "name": "python",
      "nbconvert_exporter": "python",
      "pygments_lexer": "ipython3",
      "version": "3.9.12"
    },
    "colab": {
      "provenance": []
    }
  },
  "nbformat": 4,
  "nbformat_minor": 5
}