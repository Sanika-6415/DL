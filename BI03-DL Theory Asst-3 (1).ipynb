{
 "cells": [
  {
   "cell_type": "code",
   "execution_count": 1,
   "metadata": {},
   "outputs": [],
   "source": [
    "import numpy as np\n",
    "# Define the sigmoid activation function\n",
    "def sigmoid(x):\n",
    "    return 1 / (1 + np.exp(-x))\n",
    "# Define the derivative of the sigmoid function\n",
    "def sigmoid_derivative(x):\n",
    "    return x * (1 - x)"
   ]
  },
  {
   "cell_type": "code",
   "execution_count": 2,
   "metadata": {},
   "outputs": [],
   "source": [
    "# Creating a dataset\n",
    "# Each row represents a time step, and each column represents a feature\n",
    "X = np.array([[0, 0, 1],\n",
    " [0, 1, 1],\n",
    " [1, 0, 1],\n",
    " [1, 1, 1]])\n",
    "# Target labels\n",
    "y = np.array([[1],\n",
    " [0],\n",
    " [1],\n",
    " [0]])"
   ]
  },
  {
   "cell_type": "code",
   "execution_count": 3,
   "metadata": {},
   "outputs": [],
   "source": [
    "# Set the seed for reproducibility\n",
    "np.random.seed(1)"
   ]
  },
  {
   "cell_type": "code",
   "execution_count": 4,
   "metadata": {},
   "outputs": [],
   "source": [
    "# Initialize hyperparameters\n",
    "epochs = 10000\n",
    "learning_rate = 0.1\n",
    "# Initialize weights randomly\n",
    "input_size = 3\n",
    "hidden_size = 4\n",
    "output_size = 1"
   ]
  },
  {
   "cell_type": "code",
   "execution_count": 5,
   "metadata": {},
   "outputs": [],
   "source": [
    "weights_input_hidden = np.random.uniform(-1, 1, (input_size, hidden_size))\n",
    "weights_hidden_output = np.random.uniform(-1, 1, (hidden_size, output_size))"
   ]
  },
  {
   "cell_type": "code",
   "execution_count": 6,
   "metadata": {},
   "outputs": [
    {
     "name": "stdout",
     "output_type": "stream",
     "text": [
      "Epoch 0: Error 0.5040237243821001\n",
      "Epoch 1000: Error 0.09112543351136504\n",
      "Epoch 2000: Error 0.05085783957414422\n",
      "Epoch 3000: Error 0.03785155334720379\n",
      "Epoch 4000: Error 0.03110704285474844\n",
      "Epoch 5000: Error 0.026870428063396862\n",
      "Epoch 6000: Error 0.023914799439357523\n",
      "Epoch 7000: Error 0.02171141194298185\n",
      "Epoch 8000: Error 0.019991895757390896\n",
      "Epoch 9000: Error 0.018604307728137825\n"
     ]
    }
   ],
   "source": [
    "# Training the RNN\n",
    "for epoch in range(epochs):\n",
    "    \n",
    "    # Forward propagation\n",
    "    hidden_layer_input = np.dot(X, weights_input_hidden)\n",
    "    hidden_layer_output = sigmoid(hidden_layer_input)\n",
    "    output_layer_input = np.dot(hidden_layer_output, weights_hidden_output)\n",
    "    output_layer_output = sigmoid(output_layer_input)\n",
    "    \n",
    "    # Calculate the loss\n",
    "    loss = y - output_layer_output\n",
    "    \n",
    "    # Backpropagation\n",
    "    d_output = loss * sigmoid_derivative(output_layer_output)\n",
    "    error_hidden_layer = d_output.dot(weights_hidden_output.T)\n",
    "    d_hidden_layer = error_hidden_layer * sigmoid_derivative(hidden_layer_output)\n",
    "    \n",
    "    # Update weights\n",
    "    weights_hidden_output += hidden_layer_output.T.dot(d_output) * learning_rate\n",
    "    weights_input_hidden += X.T.dot(d_hidden_layer) * learning_rate\n",
    "    if epoch % 1000 == 0:\n",
    "        print(f\"Epoch {epoch}: Error {np.mean(np.abs(loss))}\")"
   ]
  },
  {
   "cell_type": "code",
   "execution_count": 7,
   "metadata": {},
   "outputs": [
    {
     "name": "stdout",
     "output_type": "stream",
     "text": [
      "Test output: [[0.81500116]]\n"
     ]
    }
   ],
   "source": [
    "# Test the trained RNN\n",
    "test_input = np.array([[1, 0, 0]]) # Test input\n",
    "hidden_layer_input = np.dot(test_input, weights_input_hidden)\n",
    "hidden_layer_output = sigmoid(hidden_layer_input)\n",
    "output_layer_input = np.dot(hidden_layer_output, weights_hidden_output)\n",
    "output_layer_output = sigmoid(output_layer_input)\n",
    "print(f\"Test output: {output_layer_output}\")"
   ]
  }
 ],
 "metadata": {
  "kernelspec": {
   "display_name": "Python 3",
   "language": "python",
   "name": "python3"
  },
  "language_info": {
   "codemirror_mode": {
    "name": "ipython",
    "version": 3
   },
   "file_extension": ".py",
   "mimetype": "text/x-python",
   "name": "python",
   "nbconvert_exporter": "python",
   "pygments_lexer": "ipython3",
   "version": "3.8.5"
  }
 },
 "nbformat": 4,
 "nbformat_minor": 4
}
