{
  "cells": [
    {
      "cell_type": "code",
      "execution_count": null,
      "id": "eae9ac43",
      "metadata": {
        "id": "eae9ac43",
        "outputId": "837feec4-1581-44ab-d103-b4f5447e42aa"
      },
      "outputs": [
        {
          "name": "stdout",
          "output_type": "stream",
          "text": [
            "Requirement already satisfied: theano in c:\\users\\administrator\\anaconda3\\lib\\site-packages (1.0.5)\n",
            "Requirement already satisfied: six>=1.9.0 in c:\\users\\administrator\\anaconda3\\lib\\site-packages (from theano) (1.16.0)\n",
            "Requirement already satisfied: numpy>=1.9.1 in c:\\users\\administrator\\anaconda3\\lib\\site-packages (from theano) (1.21.5)\n",
            "Requirement already satisfied: scipy>=0.14 in c:\\users\\administrator\\anaconda3\\lib\\site-packages (from theano) (1.7.3)\n"
          ]
        }
      ],
      "source": [
        "# Theano\n",
        "# Mathematical Operations\n",
        "# Arrays - Multi-dimensional\n",
        "# Installation\n",
        "!pip install theano"
      ]
    },
    {
      "cell_type": "code",
      "execution_count": null,
      "id": "a708f74b",
      "metadata": {
        "id": "a708f74b",
        "outputId": "cd5eea11-eb73-4b7b-f569-5a11d2510109"
      },
      "outputs": [
        {
          "name": "stderr",
          "output_type": "stream",
          "text": [
            "WARNING (theano.configdefaults): g++ not available, if using conda: `conda install m2w64-toolchain`\n",
            "C:\\Users\\Administrator\\anaconda3\\lib\\site-packages\\theano\\configdefaults.py:560: UserWarning: DeprecationWarning: there is no c++ compiler.This is deprecated and with Theano 0.11 a c++ compiler will be mandatory\n",
            "  warnings.warn(\"DeprecationWarning: there is no c++ compiler.\"\n",
            "WARNING (theano.configdefaults): g++ not detected ! Theano will be unable to execute optimized C-implementations (for both CPU and GPU) and will default to Python implementations. Performance will be severely degraded. To remove this warning, set Theano flags cxx to an empty string.\n",
            "WARNING (theano.tensor.blas): Using NumPy C-API based implementation for BLAS functions.\n"
          ]
        }
      ],
      "source": [
        "import theano\n",
        "from theano import *\n",
        "import theano.tensor as T\n",
        "import numpy as np\n",
        "import pandas as pd\n",
        "from theano import function"
      ]
    },
    {
      "cell_type": "code",
      "execution_count": null,
      "id": "0bc94f6d",
      "metadata": {
        "id": "0bc94f6d"
      },
      "outputs": [],
      "source": [
        "# scalar variables\n",
        "v1 = T.dscalar()\n",
        "v2 = T.scalar()\n",
        "# subtraction\n",
        "sres = v1-v2\n",
        "#add\n",
        "ares = v1+v2"
      ]
    },
    {
      "cell_type": "code",
      "execution_count": null,
      "id": "0e46fc8a",
      "metadata": {
        "id": "0e46fc8a"
      },
      "outputs": [],
      "source": [
        "#convert the results into functions\n",
        "calcsres =function([v1,v2],sres)\n",
        "calcares = function([v1,v2],ares)\n",
        "calcares(12,23)\n",
        "calcsres(13,12)\n",
        "x = T.dmatrix('x')\n",
        "y = T.dmatrix('y')"
      ]
    },
    {
      "cell_type": "code",
      "execution_count": null,
      "id": "d9093433",
      "metadata": {
        "id": "d9093433",
        "outputId": "e7126a9d-8cc1-46d9-ad19-c464ff573365"
      },
      "outputs": [
        {
          "data": {
            "text/plain": [
              "array([[ 5.,  7.],\n",
              "       [ 9., 11.]])"
            ]
          },
          "execution_count": 5,
          "metadata": {},
          "output_type": "execute_result"
        }
      ],
      "source": [
        "# addition\n",
        "z = x+y\n",
        "func = function([x,y],z)\n",
        "m1 = [\n",
        "[1,2],\n",
        "[3,4]\n",
        "]\n",
        "m2 = [\n",
        "[4,5],\n",
        "[6,7]\n",
        "]\n",
        "func(m1,m2)"
      ]
    }
  ],
  "metadata": {
    "kernelspec": {
      "display_name": "Python 3 (ipykernel)",
      "language": "python",
      "name": "python3"
    },
    "language_info": {
      "codemirror_mode": {
        "name": "ipython",
        "version": 3
      },
      "file_extension": ".py",
      "mimetype": "text/x-python",
      "name": "python",
      "nbconvert_exporter": "python",
      "pygments_lexer": "ipython3",
      "version": "3.10.6"
    },
    "colab": {
      "provenance": []
    }
  },
  "nbformat": 4,
  "nbformat_minor": 5
}